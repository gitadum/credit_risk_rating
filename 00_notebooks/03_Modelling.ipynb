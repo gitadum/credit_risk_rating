{
 "cells": [
  {
   "cell_type": "markdown",
   "source": [
    "# Initialisation"
   ],
   "metadata": {}
  },
  {
   "cell_type": "code",
   "execution_count": 12,
   "source": [
    "# Importations\n",
    "import sys\n",
    "sys.path.append('..')\n",
    "\n",
    "import pandas as pd\n",
    "import numpy as np\n",
    "from sklearn.model_selection import train_test_split\n",
    "from sklearn.model_selection import StratifiedKFold, RepeatedStratifiedKFold\n",
    "from sklearn.model_selection import cross_validate\n",
    "from imblearn.pipeline import Pipeline\n",
    "\n",
    "from sklearn.linear_model import SGDClassifier\n",
    "from sklearn.ensemble import RandomForestClassifier\n",
    "from lightgbm import LGBMClassifier\n",
    "from sklearn.metrics import confusion_matrix, classification_report\n",
    "from imblearn.combine import SMOTETomek, SMOTEENN\n",
    "from imblearn.under_sampling import TomekLinks, RandomUnderSampler\n",
    "from preprocessing import preprocessor as prep\n",
    "from preprocessing import preprocessor_no_scaler as prep_no_scl\n",
    "from styles import *"
   ],
   "outputs": [],
   "metadata": {}
  },
  {
   "cell_type": "code",
   "execution_count": 2,
   "source": [
    "# Initialisation\n",
    "train = pd.read_csv('../02_data/application_train.csv')\n",
    "test = pd.read_csv('../02_data/application_test.csv')\n",
    "\n",
    "id_error_msg = lambda x: '`SK_ID_CURR` is not unic for {} set!'.format(x)\n",
    "assert len(train.SK_ID_CURR.unique()) == train.shape[0], id_error_msg('train')\n",
    "assert len(test.SK_ID_CURR.unique()) == test.shape[0], id_error_msg('test')\n",
    "train.set_index('SK_ID_CURR', inplace=True)\n",
    "test.set_index('SK_ID_CURR', inplace=True)\n",
    "\n",
    "print('Training set dimensions :', train.shape)\n",
    "\n",
    "cls_size = train.TARGET.value_counts()\n",
    "cls_freq = train.TARGET.value_counts(normalize=True)\n",
    "print(pd.DataFrame({'size': cls_size,\n",
    "                    'freq': cls_freq.apply(lambda x: '%.3f' % x)}))"
   ],
   "outputs": [
    {
     "output_type": "stream",
     "name": "stdout",
     "text": [
      "Training set dimensions : (307511, 121)\n",
      "     size   freq\n",
      "0  282686  0.919\n",
      "1   24825  0.081\n"
     ]
    }
   ],
   "metadata": {}
  },
  {
   "cell_type": "code",
   "execution_count": 4,
   "source": [
    "train_sample = train[::10]\n",
    "print('Sampled training set dimensions :', train_sample.shape)\n",
    "cls_size = train_sample.TARGET.value_counts()\n",
    "cls_freq = train_sample.TARGET.value_counts(normalize=True)\n",
    "print(pd.DataFrame({'size': cls_size,\n",
    "                    'freq': cls_freq.apply(lambda x: '%.3f' % x)}))"
   ],
   "outputs": [
    {
     "output_type": "stream",
     "name": "stdout",
     "text": [
      "Sampled training set dimensions : (30752, 121)\n",
      "    size   freq\n",
      "0  28303  0.920\n",
      "1   2449  0.080\n"
     ]
    }
   ],
   "metadata": {}
  },
  {
   "cell_type": "markdown",
   "source": [
    "On échantillonne le dataset en prenant 10% des points de données"
   ],
   "metadata": {}
  },
  {
   "cell_type": "code",
   "execution_count": 5,
   "source": [
    "X, y = train.iloc[:, 1:], train.iloc[:, 0]#.values.reshape(-1,1)\n",
    "Xs, ys = train_sample.iloc[:, 1:], train_sample.iloc[:, 0]#.values.reshape(-1,1)\n",
    "\n",
    "X_train, X_test, y_train, y_test = train_test_split(Xs, ys, test_size=.2,\n",
    "                                                    random_state=0)\n",
    "print('X_train:', X_train.shape)\n",
    "print('y_train:', y_train.shape)\n",
    "print('X_test:', X_test.shape)\n",
    "print('y_test:', y_test.shape)"
   ],
   "outputs": [
    {
     "output_type": "stream",
     "name": "stdout",
     "text": [
      "X_train: (24601, 120)\n",
      "y_train: (24601,)\n",
      "X_test: (6151, 120)\n",
      "y_test: (6151,)\n"
     ]
    }
   ],
   "metadata": {}
  },
  {
   "cell_type": "markdown",
   "source": [
    "# Rééquilibrage de classes - SMOTE/Tomek"
   ],
   "metadata": {}
  },
  {
   "cell_type": "markdown",
   "source": [
    "Il y a ~8% de cas de défaut dans le jeu d'entraînement contre 92% de cas sans défaut. Le déséquilibre des classes pose problème dans le cadre de la prédiction de la classe minoritaire par un algorithme de ml.\n",
    "\n",
    "Il faut rééquilibrer les classes du jeu d'entraînement avant de sélectionner le meilleur modèle de ml "
   ],
   "metadata": {}
  },
  {
   "cell_type": "markdown",
   "source": [
    "## Impact de SMOTE Tomek sur la répartition des classes"
   ],
   "metadata": {}
  },
  {
   "cell_type": "code",
   "execution_count": 13,
   "source": [
    "resamplr = SMOTETomek(tomek=TomekLinks(sampling_strategy='majority'))\n",
    "udsamplr = SMOTEENN(random_state=42)\n",
    "rusamplr = RandomUnderSampler(random_state=42)"
   ],
   "outputs": [],
   "metadata": {}
  },
  {
   "cell_type": "code",
   "execution_count": 7,
   "source": [
    "X_train_trans = prep.fit_transform(X_train)\n",
    "print(X_train_trans.shape)\n",
    "print(X_train_trans)\n",
    "print(y_train.shape)\n",
    "print(y_train.value_counts())"
   ],
   "outputs": [
    {
     "output_type": "stream",
     "name": "stdout",
     "text": [
      "(24601, 235)\n",
      "[[0.         0.09011628 0.07823375 ... 1.         0.         0.        ]\n",
      " [0.         0.01162791 0.01353611 ... 0.         1.         0.        ]\n",
      " [0.         0.05232558 0.15492746 ... 0.         1.         0.        ]\n",
      " ...\n",
      " [0.         0.14244186 0.1340753  ... 0.         1.         0.        ]\n",
      " [0.1        0.12790698 0.28631022 ... 0.         0.         0.        ]\n",
      " [0.3        0.06395349 0.25047455 ... 0.         1.         0.        ]]\n",
      "(24601,)\n",
      "0    22659\n",
      "1     1942\n",
      "Name: TARGET, dtype: int64\n"
     ]
    }
   ],
   "metadata": {}
  },
  {
   "cell_type": "code",
   "execution_count": 39,
   "source": [
    "X_train_resampl, y_train_resampl = resamplr.fit_resample(X_train_trans, y_train)\n",
    "print(X_train_resampl.shape)\n",
    "print(y_train_resampl.value_counts())"
   ],
   "outputs": [
    {
     "output_type": "stream",
     "name": "stdout",
     "text": [
      "(45318, 235)\n",
      "0    22659\n",
      "1    22659\n",
      "Name: TARGET, dtype: int64\n"
     ]
    }
   ],
   "metadata": {}
  },
  {
   "cell_type": "code",
   "execution_count": 11,
   "source": [
    "X_train_udsampl, y_train_udsampl = udsamplr.fit_resample(X_train_trans, y_train)\n",
    "print(X_train_udsampl.shape)\n",
    "print(y_train_udsampl.value_counts())"
   ],
   "outputs": [
    {
     "output_type": "stream",
     "name": "stdout",
     "text": [
      "(33702, 235)\n",
      "1    22628\n",
      "0    11074\n",
      "Name: TARGET, dtype: int64\n"
     ]
    }
   ],
   "metadata": {}
  },
  {
   "cell_type": "code",
   "execution_count": 14,
   "source": [
    "X_train_rusampl, y_train_rusampl = rusamplr.fit_resample(X_train_trans, y_train)\n",
    "print(X_train_rusampl.shape)\n",
    "print(y_train_rusampl.value_counts())"
   ],
   "outputs": [
    {
     "output_type": "stream",
     "name": "stdout",
     "text": [
      "(3884, 235)\n",
      "0    1942\n",
      "1    1942\n",
      "Name: TARGET, dtype: int64\n"
     ]
    }
   ],
   "metadata": {}
  },
  {
   "cell_type": "markdown",
   "source": [
    "Rééquilibrage exécuté en 1min environ pour un jeu d'entraînement divisé par 10."
   ],
   "metadata": {}
  },
  {
   "cell_type": "markdown",
   "source": [
    "## Impact de SMOTE Tomek sur l'entraînement d'un modèle"
   ],
   "metadata": {}
  },
  {
   "cell_type": "code",
   "execution_count": 40,
   "source": [
    "sgd = Pipeline([('p', prep), ('m', SGDClassifier())])\n",
    "cv = StratifiedKFold(n_splits=5, shuffle=True, random_state=42)\n",
    "#cv = RepeatedStratifiedKFold(n_splits=5, n_repeats=3, random_state=42)\n",
    "scoring = ['precision_macro','recall_macro'] #, 'accuracy']\n",
    "sgd_scor = cross_validate(sgd, X_train, y_train, scoring=scoring, cv=cv)\n",
    "print('Model 1\\n' + line_decor)\n",
    "#print('accuracy scores:', sgd_scor['test_accuracy'])\n",
    "print('precision scores:', sgd_scor['test_precision_macro'])\n",
    "print('recall scores:', sgd_scor['test_recall_macro'])\n",
    "#print('Mean Accuracy: %.4f' % np.mean(sgd_scores['test_accuracy']))\n",
    "print('Mean Precision: %.4f' % np.nanmean(sgd_scor['test_precision_macro']))\n",
    "print('Mean Recall: %.4f' % np.nanmean(sgd_scor['test_recall_macro']))"
   ],
   "outputs": [
    {
     "output_type": "stream",
     "name": "stdout",
     "text": [
      "Model 1\n",
      "--------\n",
      "precision scores: [       nan 0.46056911 0.46056911 0.46056911        nan]\n",
      "recall scores: [nan 0.5 0.5 0.5 nan]\n",
      "Mean Precision: 0.4606\n",
      "Mean Recall: 0.5000\n"
     ]
    }
   ],
   "metadata": {}
  },
  {
   "cell_type": "markdown",
   "source": [
    "Validation croisée sans SMOTE Tomek : 8.7s avec un échantillon divisé par 10"
   ],
   "metadata": {}
  },
  {
   "cell_type": "code",
   "execution_count": 41,
   "source": [
    "sgd_imb = Pipeline([('p', prep), ('r', resamplr), ('m', SGDClassifier())])\n",
    "cv = StratifiedKFold(n_splits=5, shuffle=True, random_state=42)\n",
    "#cv = RepeatedStratifiedKFold(n_splits=5, n_repeats=3, random_state=42)\n",
    "scoring = ['precision_macro','recall_macro'] #, 'accuracy']\n",
    "sgd_imb_scor = cross_validate(sgd_imb, X_train, y_train, scoring=scoring, cv=5)\n",
    "print('Model 1 - with imbalance handling\\n' + line_decor)\n",
    "#print('accuracy scores:', sgd_imb_scor['test_accuracy'])\n",
    "print('precision scores:', sgd_imb_scor['test_precision_macro'])\n",
    "print('recall scores:', sgd_imb_scor['test_recall_macro'])\n",
    "#print('Mean Accuracy: %.4f' % np.mean(sgd_imb_scores['test_accuracy']))\n",
    "print('Mean Precision: %.4f' % np.nanmean(sgd_imb_scor['test_precision_macro']))\n",
    "print('Mean Recall: %.4f' % np.nanmean(sgd_imb_scor['test_recall_macro']))"
   ],
   "outputs": [
    {
     "output_type": "stream",
     "name": "stdout",
     "text": [
      "Model 1 - with imbalance handling\n",
      "--------\n",
      "precision scores: [       nan 0.55255999 0.5584412         nan 0.55571135]\n",
      "recall scores: [       nan 0.66237227 0.63354292        nan 0.67955739]\n",
      "Mean Precision: 0.5556\n",
      "Mean Recall: 0.6585\n"
     ]
    }
   ],
   "metadata": {}
  },
  {
   "cell_type": "markdown",
   "source": [
    "Validation croisée avec SMOTE Tomek (stratégie majoritaire) : 207.6s avec un échantillon divisé par 10"
   ],
   "metadata": {}
  },
  {
   "cell_type": "code",
   "execution_count": 7,
   "source": [
    "smote_unsmote_ratio = 207.6 / 8.7\n",
    "print('{:.2f}'.format(smote_unsmote_ratio))"
   ],
   "outputs": [
    {
     "output_type": "stream",
     "name": "stdout",
     "text": [
      "23.86\n"
     ]
    }
   ],
   "metadata": {}
  },
  {
   "cell_type": "code",
   "execution_count": 43,
   "source": [
    "smote_unsmote_ratio = 186.5 / 9.6\n",
    "print('{:2f}'.format(smote_unsmote_ratio))"
   ],
   "outputs": [
    {
     "output_type": "stream",
     "name": "stdout",
     "text": [
      "19.427083\n"
     ]
    }
   ],
   "metadata": {}
  },
  {
   "cell_type": "markdown",
   "source": [
    "Le SMOTE Tomek multiplie par un facteur 19 à 24 le temps d'exécution du modèle"
   ],
   "metadata": {}
  },
  {
   "cell_type": "markdown",
   "source": [
    "Essai d'une validation croisée sans SMOTE Tomek avec tous les points du jeu d'entraînement"
   ],
   "metadata": {}
  },
  {
   "cell_type": "code",
   "execution_count": 8,
   "source": [
    "X_train, X_test, y_train, y_test = train_test_split(X, y, test_size=.2)\n",
    "print('X_train:', X_train.shape)\n",
    "print('y_train:', y_train.shape)\n",
    "print('X_test:', X_test.shape)\n",
    "print('y_test:', y_test.shape)"
   ],
   "outputs": [
    {
     "output_type": "stream",
     "name": "stdout",
     "text": [
      "X_train: (246008, 120)\n",
      "y_train: (246008, 1)\n",
      "X_test: (61503, 120)\n",
      "y_test: (61503, 1)\n"
     ]
    }
   ],
   "metadata": {}
  },
  {
   "cell_type": "code",
   "execution_count": 9,
   "source": [
    "sgd = Pipeline([('p', prep), ('m', SGDClassifier())])\n",
    "cv = StratifiedKFold(n_splits=5, shuffle=True, random_state=42)\n",
    "#cv = RepeatedStratifiedKFold(n_splits=5, n_repeats=3, random_state=42)\n",
    "scoring = ['precision_macro','recall_macro'] #, 'accuracy']\n",
    "sgd_scor = cross_validate(sgd, X_train, y_train, scoring=scoring, cv=cv)\n",
    "print('Model 1\\n' + line_decor)\n",
    "#print('accuracy scores:', sgd_scor['test_accuracy'])\n",
    "print('precision scores:', sgd_scor['test_precision_macro'])\n",
    "print('recall scores:', sgd_scor['test_recall_macro'])\n",
    "#print('Mean Accuracy: %.4f' % np.mean(sgd_scores['test_accuracy']))\n",
    "print('Mean Precision: %.4f' % np.nanmean(sgd_scor['test_precision_macro']))\n",
    "print('Mean Recall: %.4f' % np.nanmean(sgd_scor['test_recall_macro']))"
   ],
   "outputs": [
    {
     "output_type": "stream",
     "name": "stdout",
     "text": [
      "Model 1\n",
      "--------\n",
      "precision scores: [0.45967644 0.45966627 0.45966627 0.45967562 0.45967562]\n",
      "recall scores: [0.5 0.5 0.5 0.5 0.5]\n",
      "Mean Precision: 0.4597\n",
      "Mean Recall: 0.5000\n"
     ]
    }
   ],
   "metadata": {}
  },
  {
   "cell_type": "markdown",
   "source": [
    "Validation croisée sans SMOTE Tomek exécutée en 57.9s sur tout le jeu de données"
   ],
   "metadata": {}
  },
  {
   "cell_type": "code",
   "execution_count": 11,
   "source": [
    "unsampled_sampled_ratio = 57.9 / 8.7\n",
    "print('{:.2f}'.format(unsampled_sampled_ratio))"
   ],
   "outputs": [
    {
     "output_type": "stream",
     "name": "stdout",
     "text": [
      "6.66\n"
     ]
    }
   ],
   "metadata": {}
  },
  {
   "cell_type": "markdown",
   "source": [
    "Il faut 7 fois plus de temps pour exécuter la même chose sur 10 fois plus de données (pas parfaitement linéaire donc)"
   ],
   "metadata": {}
  },
  {
   "cell_type": "code",
   "execution_count": 12,
   "source": [
    "print('{:.2f}'.format(207.6 * unsampled_sampled_ratio))"
   ],
   "outputs": [
    {
     "output_type": "stream",
     "name": "stdout",
     "text": [
      "1381.61\n"
     ]
    }
   ],
   "metadata": {}
  },
  {
   "cell_type": "code",
   "execution_count": 13,
   "source": [
    "1381 / 60"
   ],
   "outputs": [
    {
     "output_type": "execute_result",
     "data": {
      "text/plain": [
       "23.016666666666666"
      ]
     },
     "metadata": {},
     "execution_count": 13
    }
   ],
   "metadata": {}
  },
  {
   "cell_type": "markdown",
   "source": [
    "Il faudrait 23 minutes rien que pour faire du rééquilibrage avec le jeu de données actuel. Pas souhaitable. \n",
    "\n",
    "**Il faut trouver un moyen de raccourcir le temps d'exécution du rééquilibrage.**"
   ],
   "metadata": {}
  },
  {
   "cell_type": "markdown",
   "source": [
    "## Réduction du temps de rééquilibrage en suppprimant des colonnes"
   ],
   "metadata": {}
  },
  {
   "cell_type": "code",
   "execution_count": 45,
   "source": [
    "X_train_resampl_cut, y_train_resampl_cut = resamplr.fit_resample(\n",
    "    X_train_trans[:,:50], y_train\n",
    "    )\n",
    "print(X_train_resampl_cut.shape)\n",
    "print(y_train_resampl_cut.value_counts())"
   ],
   "outputs": [
    {
     "output_type": "stream",
     "name": "stdout",
     "text": [
      "(45313, 50)\n",
      "1    22659\n",
      "0    22654\n",
      "Name: TARGET, dtype: int64\n"
     ]
    }
   ],
   "metadata": {}
  },
  {
   "cell_type": "markdown",
   "source": [
    "temps d'entraînement 52s pour un jeu d'entraînement divisé par 10 avec seulement les 50 premières colonnes contre 60.5s avec toutes les colonnes."
   ],
   "metadata": {}
  },
  {
   "cell_type": "markdown",
   "source": [
    "# Sous-échantillonage aléatoire"
   ],
   "metadata": {}
  },
  {
   "cell_type": "code",
   "execution_count": 15,
   "source": [
    "X_train, X_test, y_train, y_test = train_test_split(X, y, test_size=.2)\n",
    "print('X_train:', X_train.shape)\n",
    "print('y_train:', y_train.shape)\n",
    "print('X_test:', X_test.shape)\n",
    "print('y_test:', y_test.shape)"
   ],
   "outputs": [
    {
     "output_type": "stream",
     "name": "stdout",
     "text": [
      "X_train: (246008, 120)\n",
      "y_train: (246008,)\n",
      "X_test: (61503, 120)\n",
      "y_test: (61503,)\n"
     ]
    }
   ],
   "metadata": {}
  },
  {
   "cell_type": "code",
   "execution_count": 16,
   "source": [
    "sgd_imb = Pipeline([('p', prep), ('r', rusamplr), ('m', SGDClassifier())])\n",
    "cv = StratifiedKFold(n_splits=5, shuffle=True, random_state=42)\n",
    "#cv = RepeatedStratifiedKFold(n_splits=5, n_repeats=3, random_state=42)\n",
    "scoring = ['precision_macro','recall_macro'] #, 'accuracy']\n",
    "sgd_imb_scor = cross_validate(sgd_imb, X_train, y_train, scoring=scoring, cv=5)\n",
    "print('Model 1 - with imbalance handling\\n' + line_decor)\n",
    "#print('accuracy scores:', sgd_imb_scor['test_accuracy'])\n",
    "print('precision scores:', sgd_imb_scor['test_precision_macro'])\n",
    "print('recall scores:', sgd_imb_scor['test_recall_macro'])\n",
    "#print('Mean Accuracy: %.4f' % np.mean(sgd_imb_scores['test_accuracy']))\n",
    "print('Mean Precision: %.4f' % np.nanmean(sgd_imb_scor['test_precision_macro']))\n",
    "print('Mean Recall: %.4f' % np.nanmean(sgd_imb_scor['test_recall_macro']))"
   ],
   "outputs": [
    {
     "output_type": "stream",
     "name": "stdout",
     "text": [
      "Model 1 - with imbalance handling\n",
      "--------\n",
      "precision scores: [0.54163367        nan 0.56050468 0.55293874        nan]\n",
      "recall scores: [0.62721639        nan 0.67366715 0.67118886        nan]\n",
      "Mean Precision: 0.5517\n",
      "Mean Recall: 0.6574\n"
     ]
    }
   ],
   "metadata": {}
  },
  {
   "cell_type": "markdown",
   "source": [
    "# Modèle 1 : SGD Classifier"
   ],
   "metadata": {}
  },
  {
   "cell_type": "code",
   "execution_count": 3,
   "source": [
    "model1 = Pipeline([('p', prep), ('m', SGDClassifier())])\n",
    "model1.fit(X_train, y_train)\n",
    "y_pred = model1.predict(X_test)\n",
    "conf_mat = confusion_matrix(y_test, y_pred)\n",
    "print('Model 1\\n' + line_decor)\n",
    "print('Score: %.4f' % model1.score(X_test, y_test))\n",
    "print(line_decor + '\\nConfusion matrix\\n' + str(conf_mat))\n",
    "print(classification_report(y_test, y_pred))"
   ],
   "outputs": [
    {
     "output_type": "stream",
     "name": "stdout",
     "text": [
      "Model 1\n",
      "--------\n",
      "Score: 0.9190\n",
      "--------\n",
      "Confusion matrix\n",
      "[[56522     0]\n",
      " [ 4981     0]]\n",
      "              precision    recall  f1-score   support\n",
      "\n",
      "           0       0.92      1.00      0.96     56522\n",
      "           1       0.00      0.00      0.00      4981\n",
      "\n",
      "    accuracy                           0.92     61503\n",
      "   macro avg       0.46      0.50      0.48     61503\n",
      "weighted avg       0.84      0.92      0.88     61503\n",
      "\n"
     ]
    }
   ],
   "metadata": {}
  },
  {
   "cell_type": "markdown",
   "source": [
    "# Modèle 2 : Random Forest Classifier"
   ],
   "metadata": {}
  },
  {
   "cell_type": "code",
   "execution_count": 13,
   "source": [
    "model2 = Pipeline([('p', prep_no_scl), ('m', RandomForestClassifier())])\n",
    "cv = RepeatedStratifiedKFold(n_splits=10, n_repeats=3, random_state=1)\n",
    "scoring = ['accuracy','precision_macro','recall_macro']\n",
    "scores_model2 = cross_validate(model2, X_train, y_train, scoring=scoring, cv=cv,\n",
    "                               n_jobs=-1)\n",
    "\n",
    "print('Model 2\\n' + 8 * '-')\n",
    "print('Mean Accuracy: %.4f' % np.mean(scores_model2['test_accuracy']))\n",
    "print('Mean Precision: %.4f' % np.mean(scores_model2['test_precision_macro']))\n",
    "print('Mean Recall: %.4f' % np.mean(scores_model2['test_recall_macro']))"
   ],
   "outputs": [],
   "metadata": {}
  },
  {
   "cell_type": "code",
   "execution_count": 10,
   "source": [
    "model2 = Pipeline([('p', prep_no_scl), ('m', RandomForestClassifier())])\n",
    "model2.fit(X_train, y_train)\n",
    "y_pred = model2.predict(X_test)\n",
    "conf_mat = confusion_matrix(y_test, y_pred)\n",
    "print('Model 2\\n' + 8 * '-')\n",
    "print('Score: %.4f' % model2.score(X_test, y_test))\n",
    "print(8 * '-' + '\\nConfusion matrix\\n' + str(conf_mat))\n",
    "print(classification_report(y_test, y_pred))"
   ],
   "outputs": [
    {
     "output_type": "stream",
     "name": "stdout",
     "text": [
      "Model 1\n",
      "--------\n",
      "Score: 0.9185\n",
      "--------\n",
      "Confusion matrix\n",
      "[[56485     4]\n",
      " [ 5011     3]]\n",
      "              precision    recall  f1-score   support\n",
      "\n",
      "           0       0.92      1.00      0.96     56489\n",
      "           1       0.43      0.00      0.00      5014\n",
      "\n",
      "    accuracy                           0.92     61503\n",
      "   macro avg       0.67      0.50      0.48     61503\n",
      "weighted avg       0.88      0.92      0.88     61503\n",
      "\n"
     ]
    }
   ],
   "metadata": {}
  },
  {
   "cell_type": "code",
   "execution_count": null,
   "source": [
    "# undersmpling \n",
    "# foret d'arbre -> feature importance\n",
    "# lightgbm\n",
    "# si besoin pca ou autre\n",
    "\n",
    "# optimisation du threshold\n",
    "# flask"
   ],
   "outputs": [],
   "metadata": {}
  },
  {
   "cell_type": "code",
   "execution_count": 9,
   "source": [
    "y_pred = model2.predict(X_test)\n",
    "conf_mat = confusion_matrix(y_test, y_pred)\n",
    "print(conf_mat)"
   ],
   "outputs": [
    {
     "output_type": "stream",
     "name": "stdout",
     "text": [
      "[[56512     5]\n",
      " [ 4979     7]]\n"
     ]
    }
   ],
   "metadata": {}
  },
  {
   "cell_type": "code",
   "execution_count": null,
   "source": [
    "model2.get_params()"
   ],
   "outputs": [],
   "metadata": {}
  },
  {
   "cell_type": "markdown",
   "source": [
    "# Modèle 3 : LightGBM"
   ],
   "metadata": {}
  },
  {
   "cell_type": "code",
   "execution_count": 7,
   "source": [
    "model3 = Pipeline([('p', prep), ('m', LGBMClassifier())])\n",
    "model3.fit(X_train, y_train)\n",
    "print('Score:', model3.score(X_test, y_test))"
   ],
   "outputs": [
    {
     "output_type": "stream",
     "name": "stdout",
     "text": [
      "Score: 0.9192071931450498\n"
     ]
    }
   ],
   "metadata": {}
  },
  {
   "cell_type": "code",
   "execution_count": 8,
   "source": [
    "y_pred = model3.predict(X_test)\n",
    "conf_mat = confusion_matrix(y_test, y_pred)\n",
    "print(conf_mat)"
   ],
   "outputs": [
    {
     "output_type": "stream",
     "name": "stdout",
     "text": [
      "[[56447    81]\n",
      " [ 4888    87]]\n"
     ]
    }
   ],
   "metadata": {}
  },
  {
   "cell_type": "code",
   "execution_count": 9,
   "source": [
    "print(classification_report(y_test, y_pred))"
   ],
   "outputs": [
    {
     "output_type": "stream",
     "name": "stdout",
     "text": [
      "              precision    recall  f1-score   support\n",
      "\n",
      "           0       0.92      1.00      0.96     56528\n",
      "           1       0.52      0.02      0.03      4975\n",
      "\n",
      "    accuracy                           0.92     61503\n",
      "   macro avg       0.72      0.51      0.50     61503\n",
      "weighted avg       0.89      0.92      0.88     61503\n",
      "\n"
     ]
    }
   ],
   "metadata": {}
  },
  {
   "cell_type": "code",
   "execution_count": null,
   "source": [
    "# à faire\n",
    "\n",
    "# smote tomek\n",
    "# random search precision des deux classes (privilégier light_gbm)\n",
    "# \n",
    "# choisir optimisation recall(classe 1)\n",
    "# fonction coût : manque à gagner pour chaque treshold\n",
    "# treshold = + = + precision - recall\n",
    "# precision élevée = on accepte tout le monde\n",
    "# recall élevée = on refuse tout le monde\n",
    "# regarder crer une colonne intérêts (amt credit - good price),\n",
    "# optimiser mon threshold % de ça"
   ],
   "outputs": [],
   "metadata": {}
  },
  {
   "cell_type": "markdown",
   "source": [
    "# 2021-09-30 : Modélisation avec sous-échantillonage aléatoire de la classe majoriaire"
   ],
   "metadata": {}
  },
  {
   "cell_type": "code",
   "execution_count": 12,
   "source": [
    "# Importations\n",
    "import sys\n",
    "sys.path.append('..')\n",
    "\n",
    "import pandas as pd\n",
    "import numpy as np\n",
    "from preprocessing import preprocessor as prep\n",
    "from preprocessing import preprocessor_no_scaler as prep_no_scl\n",
    "from preprocessing import CreditInfosImputer\n",
    "from imblearn.under_sampling import RandomUnderSampler\n",
    "from imblearn.pipeline import Pipeline\n",
    "from sklearn.model_selection import train_test_split\n",
    "from sklearn.tree import DecisionTreeClassifier\n",
    "from sklearn.metrics import classification_report, confusion_matrix"
   ],
   "outputs": [],
   "metadata": {}
  },
  {
   "cell_type": "code",
   "execution_count": 2,
   "source": [
    "# Initialisation\n",
    "train = pd.read_csv('../02_data/application_train.csv')\n",
    "#test = pd.read_csv('../02_data/application_test.csv')\n",
    "\n",
    "id_error_msg = lambda x: '`SK_ID_CURR` is not unic for {} set!'.format(x)\n",
    "assert len(train.SK_ID_CURR.unique()) == train.shape[0], id_error_msg('train')\n",
    "#assert len(test.SK_ID_CURR.unique()) == test.shape[0], id_error_msg('test')\n",
    "train.set_index('SK_ID_CURR', inplace=True)\n",
    "#test.set_index('SK_ID_CURR', inplace=True)\n",
    "\n",
    "print('Training set dimensions :', train.shape)\n",
    "df = train.copy()\n",
    "\n",
    "cls_size = df.TARGET.value_counts()\n",
    "cls_freq = df.TARGET.value_counts(normalize=True)\n",
    "print(pd.DataFrame({'size': cls_size,\n",
    "                    'freq': cls_freq.apply(lambda x: '%.3f' % x)}))"
   ],
   "outputs": [
    {
     "output_type": "stream",
     "name": "stdout",
     "text": [
      "Training set dimensions : (307511, 121)\n",
      "     size   freq\n",
      "0  282686  0.919\n",
      "1   24825  0.081\n"
     ]
    }
   ],
   "metadata": {}
  },
  {
   "cell_type": "markdown",
   "source": [
    "## Test de CreditInfosImputer"
   ],
   "metadata": {}
  },
  {
   "cell_type": "markdown",
   "source": [
    "### Tout seul"
   ],
   "metadata": {}
  },
  {
   "cell_type": "code",
   "execution_count": 3,
   "source": [
    "credit_imputer = CreditInfosImputer()\n",
    "\n",
    "credit_imputer.fit(df)"
   ],
   "outputs": [
    {
     "output_type": "execute_result",
     "data": {
      "text/plain": [
       "CreditInfosImputer()"
      ]
     },
     "metadata": {},
     "execution_count": 3
    }
   ],
   "metadata": {}
  },
  {
   "cell_type": "code",
   "execution_count": 6,
   "source": [
    "df = train.copy()\n",
    "X_train, X_test, y_train, y_test = train_test_split(df.iloc[:,1:], df.iloc[:,0],\n",
    "                                                    test_size=.2)"
   ],
   "outputs": [],
   "metadata": {}
  },
  {
   "cell_type": "code",
   "execution_count": 9,
   "source": [
    "credit_imputer.fit_transform(X_train, y_train)"
   ],
   "outputs": [
    {
     "output_type": "execute_result",
     "data": {
      "text/html": [
       "<div>\n",
       "<style scoped>\n",
       "    .dataframe tbody tr th:only-of-type {\n",
       "        vertical-align: middle;\n",
       "    }\n",
       "\n",
       "    .dataframe tbody tr th {\n",
       "        vertical-align: top;\n",
       "    }\n",
       "\n",
       "    .dataframe thead th {\n",
       "        text-align: right;\n",
       "    }\n",
       "</style>\n",
       "<table border=\"1\" class=\"dataframe\">\n",
       "  <thead>\n",
       "    <tr style=\"text-align: right;\">\n",
       "      <th></th>\n",
       "      <th>NAME_CONTRACT_TYPE</th>\n",
       "      <th>CODE_GENDER</th>\n",
       "      <th>FLAG_OWN_CAR</th>\n",
       "      <th>FLAG_OWN_REALTY</th>\n",
       "      <th>CNT_CHILDREN</th>\n",
       "      <th>AMT_INCOME_TOTAL</th>\n",
       "      <th>AMT_CREDIT</th>\n",
       "      <th>AMT_ANNUITY</th>\n",
       "      <th>AMT_GOODS_PRICE</th>\n",
       "      <th>NAME_TYPE_SUITE</th>\n",
       "      <th>...</th>\n",
       "      <th>FLAG_DOCUMENT_18</th>\n",
       "      <th>FLAG_DOCUMENT_19</th>\n",
       "      <th>FLAG_DOCUMENT_20</th>\n",
       "      <th>FLAG_DOCUMENT_21</th>\n",
       "      <th>AMT_REQ_CREDIT_BUREAU_HOUR</th>\n",
       "      <th>AMT_REQ_CREDIT_BUREAU_DAY</th>\n",
       "      <th>AMT_REQ_CREDIT_BUREAU_WEEK</th>\n",
       "      <th>AMT_REQ_CREDIT_BUREAU_MON</th>\n",
       "      <th>AMT_REQ_CREDIT_BUREAU_QRT</th>\n",
       "      <th>AMT_REQ_CREDIT_BUREAU_YEAR</th>\n",
       "    </tr>\n",
       "    <tr>\n",
       "      <th>SK_ID_CURR</th>\n",
       "      <th></th>\n",
       "      <th></th>\n",
       "      <th></th>\n",
       "      <th></th>\n",
       "      <th></th>\n",
       "      <th></th>\n",
       "      <th></th>\n",
       "      <th></th>\n",
       "      <th></th>\n",
       "      <th></th>\n",
       "      <th></th>\n",
       "      <th></th>\n",
       "      <th></th>\n",
       "      <th></th>\n",
       "      <th></th>\n",
       "      <th></th>\n",
       "      <th></th>\n",
       "      <th></th>\n",
       "      <th></th>\n",
       "      <th></th>\n",
       "      <th></th>\n",
       "    </tr>\n",
       "  </thead>\n",
       "  <tbody>\n",
       "    <tr>\n",
       "      <th>346746</th>\n",
       "      <td>Cash loans</td>\n",
       "      <td>F</td>\n",
       "      <td>N</td>\n",
       "      <td>Y</td>\n",
       "      <td>0</td>\n",
       "      <td>103500.0</td>\n",
       "      <td>78192.0</td>\n",
       "      <td>6399.0</td>\n",
       "      <td>67500.0</td>\n",
       "      <td>Unaccompanied</td>\n",
       "      <td>...</td>\n",
       "      <td>0</td>\n",
       "      <td>0</td>\n",
       "      <td>0</td>\n",
       "      <td>0</td>\n",
       "      <td>0.0</td>\n",
       "      <td>0.0</td>\n",
       "      <td>0.0</td>\n",
       "      <td>0.0</td>\n",
       "      <td>0.0</td>\n",
       "      <td>4.0</td>\n",
       "    </tr>\n",
       "    <tr>\n",
       "      <th>123400</th>\n",
       "      <td>Cash loans</td>\n",
       "      <td>F</td>\n",
       "      <td>N</td>\n",
       "      <td>Y</td>\n",
       "      <td>0</td>\n",
       "      <td>85500.0</td>\n",
       "      <td>314100.0</td>\n",
       "      <td>13833.0</td>\n",
       "      <td>225000.0</td>\n",
       "      <td>Unaccompanied</td>\n",
       "      <td>...</td>\n",
       "      <td>0</td>\n",
       "      <td>0</td>\n",
       "      <td>0</td>\n",
       "      <td>0</td>\n",
       "      <td>0.0</td>\n",
       "      <td>0.0</td>\n",
       "      <td>0.0</td>\n",
       "      <td>0.0</td>\n",
       "      <td>0.0</td>\n",
       "      <td>0.0</td>\n",
       "    </tr>\n",
       "    <tr>\n",
       "      <th>371653</th>\n",
       "      <td>Cash loans</td>\n",
       "      <td>F</td>\n",
       "      <td>N</td>\n",
       "      <td>Y</td>\n",
       "      <td>0</td>\n",
       "      <td>247500.0</td>\n",
       "      <td>1059781.5</td>\n",
       "      <td>56592.0</td>\n",
       "      <td>954000.0</td>\n",
       "      <td>Family</td>\n",
       "      <td>...</td>\n",
       "      <td>0</td>\n",
       "      <td>0</td>\n",
       "      <td>0</td>\n",
       "      <td>0</td>\n",
       "      <td>0.0</td>\n",
       "      <td>0.0</td>\n",
       "      <td>0.0</td>\n",
       "      <td>0.0</td>\n",
       "      <td>1.0</td>\n",
       "      <td>3.0</td>\n",
       "    </tr>\n",
       "    <tr>\n",
       "      <th>324835</th>\n",
       "      <td>Cash loans</td>\n",
       "      <td>M</td>\n",
       "      <td>Y</td>\n",
       "      <td>Y</td>\n",
       "      <td>0</td>\n",
       "      <td>427500.0</td>\n",
       "      <td>675000.0</td>\n",
       "      <td>49117.5</td>\n",
       "      <td>675000.0</td>\n",
       "      <td>Unaccompanied</td>\n",
       "      <td>...</td>\n",
       "      <td>0</td>\n",
       "      <td>0</td>\n",
       "      <td>0</td>\n",
       "      <td>0</td>\n",
       "      <td>0.0</td>\n",
       "      <td>0.0</td>\n",
       "      <td>0.0</td>\n",
       "      <td>0.0</td>\n",
       "      <td>0.0</td>\n",
       "      <td>2.0</td>\n",
       "    </tr>\n",
       "    <tr>\n",
       "      <th>429236</th>\n",
       "      <td>Revolving loans</td>\n",
       "      <td>M</td>\n",
       "      <td>Y</td>\n",
       "      <td>Y</td>\n",
       "      <td>1</td>\n",
       "      <td>135000.0</td>\n",
       "      <td>270000.0</td>\n",
       "      <td>13500.0</td>\n",
       "      <td>270000.0</td>\n",
       "      <td>Unaccompanied</td>\n",
       "      <td>...</td>\n",
       "      <td>0</td>\n",
       "      <td>0</td>\n",
       "      <td>0</td>\n",
       "      <td>0</td>\n",
       "      <td>0.0</td>\n",
       "      <td>0.0</td>\n",
       "      <td>0.0</td>\n",
       "      <td>0.0</td>\n",
       "      <td>0.0</td>\n",
       "      <td>3.0</td>\n",
       "    </tr>\n",
       "    <tr>\n",
       "      <th>...</th>\n",
       "      <td>...</td>\n",
       "      <td>...</td>\n",
       "      <td>...</td>\n",
       "      <td>...</td>\n",
       "      <td>...</td>\n",
       "      <td>...</td>\n",
       "      <td>...</td>\n",
       "      <td>...</td>\n",
       "      <td>...</td>\n",
       "      <td>...</td>\n",
       "      <td>...</td>\n",
       "      <td>...</td>\n",
       "      <td>...</td>\n",
       "      <td>...</td>\n",
       "      <td>...</td>\n",
       "      <td>...</td>\n",
       "      <td>...</td>\n",
       "      <td>...</td>\n",
       "      <td>...</td>\n",
       "      <td>...</td>\n",
       "      <td>...</td>\n",
       "    </tr>\n",
       "    <tr>\n",
       "      <th>447394</th>\n",
       "      <td>Cash loans</td>\n",
       "      <td>F</td>\n",
       "      <td>N</td>\n",
       "      <td>N</td>\n",
       "      <td>0</td>\n",
       "      <td>81000.0</td>\n",
       "      <td>135000.0</td>\n",
       "      <td>10665.0</td>\n",
       "      <td>135000.0</td>\n",
       "      <td>Family</td>\n",
       "      <td>...</td>\n",
       "      <td>0</td>\n",
       "      <td>0</td>\n",
       "      <td>0</td>\n",
       "      <td>0</td>\n",
       "      <td>NaN</td>\n",
       "      <td>NaN</td>\n",
       "      <td>NaN</td>\n",
       "      <td>NaN</td>\n",
       "      <td>NaN</td>\n",
       "      <td>NaN</td>\n",
       "    </tr>\n",
       "    <tr>\n",
       "      <th>210991</th>\n",
       "      <td>Cash loans</td>\n",
       "      <td>M</td>\n",
       "      <td>N</td>\n",
       "      <td>N</td>\n",
       "      <td>0</td>\n",
       "      <td>112500.0</td>\n",
       "      <td>76500.0</td>\n",
       "      <td>5670.0</td>\n",
       "      <td>76500.0</td>\n",
       "      <td>Unaccompanied</td>\n",
       "      <td>...</td>\n",
       "      <td>0</td>\n",
       "      <td>0</td>\n",
       "      <td>0</td>\n",
       "      <td>0</td>\n",
       "      <td>0.0</td>\n",
       "      <td>0.0</td>\n",
       "      <td>0.0</td>\n",
       "      <td>0.0</td>\n",
       "      <td>0.0</td>\n",
       "      <td>3.0</td>\n",
       "    </tr>\n",
       "    <tr>\n",
       "      <th>112635</th>\n",
       "      <td>Cash loans</td>\n",
       "      <td>M</td>\n",
       "      <td>Y</td>\n",
       "      <td>Y</td>\n",
       "      <td>0</td>\n",
       "      <td>157500.0</td>\n",
       "      <td>454500.0</td>\n",
       "      <td>23206.5</td>\n",
       "      <td>454500.0</td>\n",
       "      <td>Unaccompanied</td>\n",
       "      <td>...</td>\n",
       "      <td>0</td>\n",
       "      <td>0</td>\n",
       "      <td>0</td>\n",
       "      <td>0</td>\n",
       "      <td>0.0</td>\n",
       "      <td>0.0</td>\n",
       "      <td>0.0</td>\n",
       "      <td>0.0</td>\n",
       "      <td>0.0</td>\n",
       "      <td>0.0</td>\n",
       "    </tr>\n",
       "    <tr>\n",
       "      <th>117429</th>\n",
       "      <td>Cash loans</td>\n",
       "      <td>F</td>\n",
       "      <td>N</td>\n",
       "      <td>N</td>\n",
       "      <td>0</td>\n",
       "      <td>112500.0</td>\n",
       "      <td>296280.0</td>\n",
       "      <td>15124.5</td>\n",
       "      <td>225000.0</td>\n",
       "      <td>Unaccompanied</td>\n",
       "      <td>...</td>\n",
       "      <td>0</td>\n",
       "      <td>0</td>\n",
       "      <td>0</td>\n",
       "      <td>0</td>\n",
       "      <td>0.0</td>\n",
       "      <td>0.0</td>\n",
       "      <td>0.0</td>\n",
       "      <td>1.0</td>\n",
       "      <td>0.0</td>\n",
       "      <td>4.0</td>\n",
       "    </tr>\n",
       "    <tr>\n",
       "      <th>157055</th>\n",
       "      <td>Cash loans</td>\n",
       "      <td>F</td>\n",
       "      <td>Y</td>\n",
       "      <td>N</td>\n",
       "      <td>0</td>\n",
       "      <td>270000.0</td>\n",
       "      <td>180000.0</td>\n",
       "      <td>17046.0</td>\n",
       "      <td>180000.0</td>\n",
       "      <td>Family</td>\n",
       "      <td>...</td>\n",
       "      <td>0</td>\n",
       "      <td>0</td>\n",
       "      <td>0</td>\n",
       "      <td>0</td>\n",
       "      <td>0.0</td>\n",
       "      <td>0.0</td>\n",
       "      <td>0.0</td>\n",
       "      <td>0.0</td>\n",
       "      <td>0.0</td>\n",
       "      <td>0.0</td>\n",
       "    </tr>\n",
       "  </tbody>\n",
       "</table>\n",
       "<p>246008 rows × 120 columns</p>\n",
       "</div>"
      ],
      "text/plain": [
       "           NAME_CONTRACT_TYPE CODE_GENDER FLAG_OWN_CAR FLAG_OWN_REALTY  \\\n",
       "SK_ID_CURR                                                               \n",
       "346746             Cash loans           F            N               Y   \n",
       "123400             Cash loans           F            N               Y   \n",
       "371653             Cash loans           F            N               Y   \n",
       "324835             Cash loans           M            Y               Y   \n",
       "429236        Revolving loans           M            Y               Y   \n",
       "...                       ...         ...          ...             ...   \n",
       "447394             Cash loans           F            N               N   \n",
       "210991             Cash loans           M            N               N   \n",
       "112635             Cash loans           M            Y               Y   \n",
       "117429             Cash loans           F            N               N   \n",
       "157055             Cash loans           F            Y               N   \n",
       "\n",
       "            CNT_CHILDREN  AMT_INCOME_TOTAL  AMT_CREDIT  AMT_ANNUITY  \\\n",
       "SK_ID_CURR                                                            \n",
       "346746                 0          103500.0     78192.0       6399.0   \n",
       "123400                 0           85500.0    314100.0      13833.0   \n",
       "371653                 0          247500.0   1059781.5      56592.0   \n",
       "324835                 0          427500.0    675000.0      49117.5   \n",
       "429236                 1          135000.0    270000.0      13500.0   \n",
       "...                  ...               ...         ...          ...   \n",
       "447394                 0           81000.0    135000.0      10665.0   \n",
       "210991                 0          112500.0     76500.0       5670.0   \n",
       "112635                 0          157500.0    454500.0      23206.5   \n",
       "117429                 0          112500.0    296280.0      15124.5   \n",
       "157055                 0          270000.0    180000.0      17046.0   \n",
       "\n",
       "            AMT_GOODS_PRICE NAME_TYPE_SUITE  ... FLAG_DOCUMENT_18  \\\n",
       "SK_ID_CURR                                   ...                    \n",
       "346746              67500.0   Unaccompanied  ...                0   \n",
       "123400             225000.0   Unaccompanied  ...                0   \n",
       "371653             954000.0          Family  ...                0   \n",
       "324835             675000.0   Unaccompanied  ...                0   \n",
       "429236             270000.0   Unaccompanied  ...                0   \n",
       "...                     ...             ...  ...              ...   \n",
       "447394             135000.0          Family  ...                0   \n",
       "210991              76500.0   Unaccompanied  ...                0   \n",
       "112635             454500.0   Unaccompanied  ...                0   \n",
       "117429             225000.0   Unaccompanied  ...                0   \n",
       "157055             180000.0          Family  ...                0   \n",
       "\n",
       "           FLAG_DOCUMENT_19 FLAG_DOCUMENT_20 FLAG_DOCUMENT_21  \\\n",
       "SK_ID_CURR                                                      \n",
       "346746                    0                0                0   \n",
       "123400                    0                0                0   \n",
       "371653                    0                0                0   \n",
       "324835                    0                0                0   \n",
       "429236                    0                0                0   \n",
       "...                     ...              ...              ...   \n",
       "447394                    0                0                0   \n",
       "210991                    0                0                0   \n",
       "112635                    0                0                0   \n",
       "117429                    0                0                0   \n",
       "157055                    0                0                0   \n",
       "\n",
       "            AMT_REQ_CREDIT_BUREAU_HOUR  AMT_REQ_CREDIT_BUREAU_DAY  \\\n",
       "SK_ID_CURR                                                          \n",
       "346746                             0.0                        0.0   \n",
       "123400                             0.0                        0.0   \n",
       "371653                             0.0                        0.0   \n",
       "324835                             0.0                        0.0   \n",
       "429236                             0.0                        0.0   \n",
       "...                                ...                        ...   \n",
       "447394                             NaN                        NaN   \n",
       "210991                             0.0                        0.0   \n",
       "112635                             0.0                        0.0   \n",
       "117429                             0.0                        0.0   \n",
       "157055                             0.0                        0.0   \n",
       "\n",
       "            AMT_REQ_CREDIT_BUREAU_WEEK  AMT_REQ_CREDIT_BUREAU_MON  \\\n",
       "SK_ID_CURR                                                          \n",
       "346746                             0.0                        0.0   \n",
       "123400                             0.0                        0.0   \n",
       "371653                             0.0                        0.0   \n",
       "324835                             0.0                        0.0   \n",
       "429236                             0.0                        0.0   \n",
       "...                                ...                        ...   \n",
       "447394                             NaN                        NaN   \n",
       "210991                             0.0                        0.0   \n",
       "112635                             0.0                        0.0   \n",
       "117429                             0.0                        1.0   \n",
       "157055                             0.0                        0.0   \n",
       "\n",
       "            AMT_REQ_CREDIT_BUREAU_QRT  AMT_REQ_CREDIT_BUREAU_YEAR  \n",
       "SK_ID_CURR                                                         \n",
       "346746                            0.0                         4.0  \n",
       "123400                            0.0                         0.0  \n",
       "371653                            1.0                         3.0  \n",
       "324835                            0.0                         2.0  \n",
       "429236                            0.0                         3.0  \n",
       "...                               ...                         ...  \n",
       "447394                            NaN                         NaN  \n",
       "210991                            0.0                         3.0  \n",
       "112635                            0.0                         0.0  \n",
       "117429                            0.0                         4.0  \n",
       "157055                            0.0                         0.0  \n",
       "\n",
       "[246008 rows x 120 columns]"
      ]
     },
     "metadata": {},
     "execution_count": 9
    }
   ],
   "metadata": {}
  },
  {
   "cell_type": "code",
   "execution_count": 5,
   "source": [
    "credit_imputer.fit_transform(df)"
   ],
   "outputs": [
    {
     "output_type": "execute_result",
     "data": {
      "text/html": [
       "<div>\n",
       "<style scoped>\n",
       "    .dataframe tbody tr th:only-of-type {\n",
       "        vertical-align: middle;\n",
       "    }\n",
       "\n",
       "    .dataframe tbody tr th {\n",
       "        vertical-align: top;\n",
       "    }\n",
       "\n",
       "    .dataframe thead th {\n",
       "        text-align: right;\n",
       "    }\n",
       "</style>\n",
       "<table border=\"1\" class=\"dataframe\">\n",
       "  <thead>\n",
       "    <tr style=\"text-align: right;\">\n",
       "      <th></th>\n",
       "      <th>TARGET</th>\n",
       "      <th>NAME_CONTRACT_TYPE</th>\n",
       "      <th>CODE_GENDER</th>\n",
       "      <th>FLAG_OWN_CAR</th>\n",
       "      <th>FLAG_OWN_REALTY</th>\n",
       "      <th>CNT_CHILDREN</th>\n",
       "      <th>AMT_INCOME_TOTAL</th>\n",
       "      <th>AMT_CREDIT</th>\n",
       "      <th>AMT_ANNUITY</th>\n",
       "      <th>AMT_GOODS_PRICE</th>\n",
       "      <th>...</th>\n",
       "      <th>FLAG_DOCUMENT_18</th>\n",
       "      <th>FLAG_DOCUMENT_19</th>\n",
       "      <th>FLAG_DOCUMENT_20</th>\n",
       "      <th>FLAG_DOCUMENT_21</th>\n",
       "      <th>AMT_REQ_CREDIT_BUREAU_HOUR</th>\n",
       "      <th>AMT_REQ_CREDIT_BUREAU_DAY</th>\n",
       "      <th>AMT_REQ_CREDIT_BUREAU_WEEK</th>\n",
       "      <th>AMT_REQ_CREDIT_BUREAU_MON</th>\n",
       "      <th>AMT_REQ_CREDIT_BUREAU_QRT</th>\n",
       "      <th>AMT_REQ_CREDIT_BUREAU_YEAR</th>\n",
       "    </tr>\n",
       "    <tr>\n",
       "      <th>SK_ID_CURR</th>\n",
       "      <th></th>\n",
       "      <th></th>\n",
       "      <th></th>\n",
       "      <th></th>\n",
       "      <th></th>\n",
       "      <th></th>\n",
       "      <th></th>\n",
       "      <th></th>\n",
       "      <th></th>\n",
       "      <th></th>\n",
       "      <th></th>\n",
       "      <th></th>\n",
       "      <th></th>\n",
       "      <th></th>\n",
       "      <th></th>\n",
       "      <th></th>\n",
       "      <th></th>\n",
       "      <th></th>\n",
       "      <th></th>\n",
       "      <th></th>\n",
       "      <th></th>\n",
       "    </tr>\n",
       "  </thead>\n",
       "  <tbody>\n",
       "    <tr>\n",
       "      <th>100002</th>\n",
       "      <td>1</td>\n",
       "      <td>Cash loans</td>\n",
       "      <td>M</td>\n",
       "      <td>N</td>\n",
       "      <td>Y</td>\n",
       "      <td>0</td>\n",
       "      <td>202500.0</td>\n",
       "      <td>406597.5</td>\n",
       "      <td>24700.5</td>\n",
       "      <td>351000.0</td>\n",
       "      <td>...</td>\n",
       "      <td>0</td>\n",
       "      <td>0</td>\n",
       "      <td>0</td>\n",
       "      <td>0</td>\n",
       "      <td>0.0</td>\n",
       "      <td>0.0</td>\n",
       "      <td>0.0</td>\n",
       "      <td>0.0</td>\n",
       "      <td>0.0</td>\n",
       "      <td>1.0</td>\n",
       "    </tr>\n",
       "    <tr>\n",
       "      <th>100003</th>\n",
       "      <td>0</td>\n",
       "      <td>Cash loans</td>\n",
       "      <td>F</td>\n",
       "      <td>N</td>\n",
       "      <td>N</td>\n",
       "      <td>0</td>\n",
       "      <td>270000.0</td>\n",
       "      <td>1293502.5</td>\n",
       "      <td>35698.5</td>\n",
       "      <td>1129500.0</td>\n",
       "      <td>...</td>\n",
       "      <td>0</td>\n",
       "      <td>0</td>\n",
       "      <td>0</td>\n",
       "      <td>0</td>\n",
       "      <td>0.0</td>\n",
       "      <td>0.0</td>\n",
       "      <td>0.0</td>\n",
       "      <td>0.0</td>\n",
       "      <td>0.0</td>\n",
       "      <td>0.0</td>\n",
       "    </tr>\n",
       "    <tr>\n",
       "      <th>100004</th>\n",
       "      <td>0</td>\n",
       "      <td>Revolving loans</td>\n",
       "      <td>M</td>\n",
       "      <td>Y</td>\n",
       "      <td>Y</td>\n",
       "      <td>0</td>\n",
       "      <td>67500.0</td>\n",
       "      <td>135000.0</td>\n",
       "      <td>6750.0</td>\n",
       "      <td>135000.0</td>\n",
       "      <td>...</td>\n",
       "      <td>0</td>\n",
       "      <td>0</td>\n",
       "      <td>0</td>\n",
       "      <td>0</td>\n",
       "      <td>0.0</td>\n",
       "      <td>0.0</td>\n",
       "      <td>0.0</td>\n",
       "      <td>0.0</td>\n",
       "      <td>0.0</td>\n",
       "      <td>0.0</td>\n",
       "    </tr>\n",
       "    <tr>\n",
       "      <th>100006</th>\n",
       "      <td>0</td>\n",
       "      <td>Cash loans</td>\n",
       "      <td>F</td>\n",
       "      <td>N</td>\n",
       "      <td>Y</td>\n",
       "      <td>0</td>\n",
       "      <td>135000.0</td>\n",
       "      <td>312682.5</td>\n",
       "      <td>29686.5</td>\n",
       "      <td>297000.0</td>\n",
       "      <td>...</td>\n",
       "      <td>0</td>\n",
       "      <td>0</td>\n",
       "      <td>0</td>\n",
       "      <td>0</td>\n",
       "      <td>NaN</td>\n",
       "      <td>NaN</td>\n",
       "      <td>NaN</td>\n",
       "      <td>NaN</td>\n",
       "      <td>NaN</td>\n",
       "      <td>NaN</td>\n",
       "    </tr>\n",
       "    <tr>\n",
       "      <th>100007</th>\n",
       "      <td>0</td>\n",
       "      <td>Cash loans</td>\n",
       "      <td>M</td>\n",
       "      <td>N</td>\n",
       "      <td>Y</td>\n",
       "      <td>0</td>\n",
       "      <td>121500.0</td>\n",
       "      <td>513000.0</td>\n",
       "      <td>21865.5</td>\n",
       "      <td>513000.0</td>\n",
       "      <td>...</td>\n",
       "      <td>0</td>\n",
       "      <td>0</td>\n",
       "      <td>0</td>\n",
       "      <td>0</td>\n",
       "      <td>0.0</td>\n",
       "      <td>0.0</td>\n",
       "      <td>0.0</td>\n",
       "      <td>0.0</td>\n",
       "      <td>0.0</td>\n",
       "      <td>0.0</td>\n",
       "    </tr>\n",
       "    <tr>\n",
       "      <th>...</th>\n",
       "      <td>...</td>\n",
       "      <td>...</td>\n",
       "      <td>...</td>\n",
       "      <td>...</td>\n",
       "      <td>...</td>\n",
       "      <td>...</td>\n",
       "      <td>...</td>\n",
       "      <td>...</td>\n",
       "      <td>...</td>\n",
       "      <td>...</td>\n",
       "      <td>...</td>\n",
       "      <td>...</td>\n",
       "      <td>...</td>\n",
       "      <td>...</td>\n",
       "      <td>...</td>\n",
       "      <td>...</td>\n",
       "      <td>...</td>\n",
       "      <td>...</td>\n",
       "      <td>...</td>\n",
       "      <td>...</td>\n",
       "      <td>...</td>\n",
       "    </tr>\n",
       "    <tr>\n",
       "      <th>456251</th>\n",
       "      <td>0</td>\n",
       "      <td>Cash loans</td>\n",
       "      <td>M</td>\n",
       "      <td>N</td>\n",
       "      <td>N</td>\n",
       "      <td>0</td>\n",
       "      <td>157500.0</td>\n",
       "      <td>254700.0</td>\n",
       "      <td>27558.0</td>\n",
       "      <td>225000.0</td>\n",
       "      <td>...</td>\n",
       "      <td>0</td>\n",
       "      <td>0</td>\n",
       "      <td>0</td>\n",
       "      <td>0</td>\n",
       "      <td>NaN</td>\n",
       "      <td>NaN</td>\n",
       "      <td>NaN</td>\n",
       "      <td>NaN</td>\n",
       "      <td>NaN</td>\n",
       "      <td>NaN</td>\n",
       "    </tr>\n",
       "    <tr>\n",
       "      <th>456252</th>\n",
       "      <td>0</td>\n",
       "      <td>Cash loans</td>\n",
       "      <td>F</td>\n",
       "      <td>N</td>\n",
       "      <td>Y</td>\n",
       "      <td>0</td>\n",
       "      <td>72000.0</td>\n",
       "      <td>269550.0</td>\n",
       "      <td>12001.5</td>\n",
       "      <td>225000.0</td>\n",
       "      <td>...</td>\n",
       "      <td>0</td>\n",
       "      <td>0</td>\n",
       "      <td>0</td>\n",
       "      <td>0</td>\n",
       "      <td>NaN</td>\n",
       "      <td>NaN</td>\n",
       "      <td>NaN</td>\n",
       "      <td>NaN</td>\n",
       "      <td>NaN</td>\n",
       "      <td>NaN</td>\n",
       "    </tr>\n",
       "    <tr>\n",
       "      <th>456253</th>\n",
       "      <td>0</td>\n",
       "      <td>Cash loans</td>\n",
       "      <td>F</td>\n",
       "      <td>N</td>\n",
       "      <td>Y</td>\n",
       "      <td>0</td>\n",
       "      <td>153000.0</td>\n",
       "      <td>677664.0</td>\n",
       "      <td>29979.0</td>\n",
       "      <td>585000.0</td>\n",
       "      <td>...</td>\n",
       "      <td>0</td>\n",
       "      <td>0</td>\n",
       "      <td>0</td>\n",
       "      <td>0</td>\n",
       "      <td>1.0</td>\n",
       "      <td>0.0</td>\n",
       "      <td>0.0</td>\n",
       "      <td>1.0</td>\n",
       "      <td>0.0</td>\n",
       "      <td>1.0</td>\n",
       "    </tr>\n",
       "    <tr>\n",
       "      <th>456254</th>\n",
       "      <td>1</td>\n",
       "      <td>Cash loans</td>\n",
       "      <td>F</td>\n",
       "      <td>N</td>\n",
       "      <td>Y</td>\n",
       "      <td>0</td>\n",
       "      <td>171000.0</td>\n",
       "      <td>370107.0</td>\n",
       "      <td>20205.0</td>\n",
       "      <td>319500.0</td>\n",
       "      <td>...</td>\n",
       "      <td>0</td>\n",
       "      <td>0</td>\n",
       "      <td>0</td>\n",
       "      <td>0</td>\n",
       "      <td>0.0</td>\n",
       "      <td>0.0</td>\n",
       "      <td>0.0</td>\n",
       "      <td>0.0</td>\n",
       "      <td>0.0</td>\n",
       "      <td>0.0</td>\n",
       "    </tr>\n",
       "    <tr>\n",
       "      <th>456255</th>\n",
       "      <td>0</td>\n",
       "      <td>Cash loans</td>\n",
       "      <td>F</td>\n",
       "      <td>N</td>\n",
       "      <td>N</td>\n",
       "      <td>0</td>\n",
       "      <td>157500.0</td>\n",
       "      <td>675000.0</td>\n",
       "      <td>49117.5</td>\n",
       "      <td>675000.0</td>\n",
       "      <td>...</td>\n",
       "      <td>0</td>\n",
       "      <td>0</td>\n",
       "      <td>0</td>\n",
       "      <td>0</td>\n",
       "      <td>0.0</td>\n",
       "      <td>0.0</td>\n",
       "      <td>0.0</td>\n",
       "      <td>2.0</td>\n",
       "      <td>0.0</td>\n",
       "      <td>1.0</td>\n",
       "    </tr>\n",
       "  </tbody>\n",
       "</table>\n",
       "<p>307511 rows × 121 columns</p>\n",
       "</div>"
      ],
      "text/plain": [
       "            TARGET NAME_CONTRACT_TYPE CODE_GENDER FLAG_OWN_CAR  \\\n",
       "SK_ID_CURR                                                       \n",
       "100002           1         Cash loans           M            N   \n",
       "100003           0         Cash loans           F            N   \n",
       "100004           0    Revolving loans           M            Y   \n",
       "100006           0         Cash loans           F            N   \n",
       "100007           0         Cash loans           M            N   \n",
       "...            ...                ...         ...          ...   \n",
       "456251           0         Cash loans           M            N   \n",
       "456252           0         Cash loans           F            N   \n",
       "456253           0         Cash loans           F            N   \n",
       "456254           1         Cash loans           F            N   \n",
       "456255           0         Cash loans           F            N   \n",
       "\n",
       "           FLAG_OWN_REALTY  CNT_CHILDREN  AMT_INCOME_TOTAL  AMT_CREDIT  \\\n",
       "SK_ID_CURR                                                               \n",
       "100002                   Y             0          202500.0    406597.5   \n",
       "100003                   N             0          270000.0   1293502.5   \n",
       "100004                   Y             0           67500.0    135000.0   \n",
       "100006                   Y             0          135000.0    312682.5   \n",
       "100007                   Y             0          121500.0    513000.0   \n",
       "...                    ...           ...               ...         ...   \n",
       "456251                   N             0          157500.0    254700.0   \n",
       "456252                   Y             0           72000.0    269550.0   \n",
       "456253                   Y             0          153000.0    677664.0   \n",
       "456254                   Y             0          171000.0    370107.0   \n",
       "456255                   N             0          157500.0    675000.0   \n",
       "\n",
       "            AMT_ANNUITY  AMT_GOODS_PRICE  ... FLAG_DOCUMENT_18  \\\n",
       "SK_ID_CURR                                ...                    \n",
       "100002          24700.5         351000.0  ...                0   \n",
       "100003          35698.5        1129500.0  ...                0   \n",
       "100004           6750.0         135000.0  ...                0   \n",
       "100006          29686.5         297000.0  ...                0   \n",
       "100007          21865.5         513000.0  ...                0   \n",
       "...                 ...              ...  ...              ...   \n",
       "456251          27558.0         225000.0  ...                0   \n",
       "456252          12001.5         225000.0  ...                0   \n",
       "456253          29979.0         585000.0  ...                0   \n",
       "456254          20205.0         319500.0  ...                0   \n",
       "456255          49117.5         675000.0  ...                0   \n",
       "\n",
       "           FLAG_DOCUMENT_19 FLAG_DOCUMENT_20 FLAG_DOCUMENT_21  \\\n",
       "SK_ID_CURR                                                      \n",
       "100002                    0                0                0   \n",
       "100003                    0                0                0   \n",
       "100004                    0                0                0   \n",
       "100006                    0                0                0   \n",
       "100007                    0                0                0   \n",
       "...                     ...              ...              ...   \n",
       "456251                    0                0                0   \n",
       "456252                    0                0                0   \n",
       "456253                    0                0                0   \n",
       "456254                    0                0                0   \n",
       "456255                    0                0                0   \n",
       "\n",
       "           AMT_REQ_CREDIT_BUREAU_HOUR  AMT_REQ_CREDIT_BUREAU_DAY  \\\n",
       "SK_ID_CURR                                                         \n",
       "100002                            0.0                        0.0   \n",
       "100003                            0.0                        0.0   \n",
       "100004                            0.0                        0.0   \n",
       "100006                            NaN                        NaN   \n",
       "100007                            0.0                        0.0   \n",
       "...                               ...                        ...   \n",
       "456251                            NaN                        NaN   \n",
       "456252                            NaN                        NaN   \n",
       "456253                            1.0                        0.0   \n",
       "456254                            0.0                        0.0   \n",
       "456255                            0.0                        0.0   \n",
       "\n",
       "            AMT_REQ_CREDIT_BUREAU_WEEK  AMT_REQ_CREDIT_BUREAU_MON  \\\n",
       "SK_ID_CURR                                                          \n",
       "100002                             0.0                        0.0   \n",
       "100003                             0.0                        0.0   \n",
       "100004                             0.0                        0.0   \n",
       "100006                             NaN                        NaN   \n",
       "100007                             0.0                        0.0   \n",
       "...                                ...                        ...   \n",
       "456251                             NaN                        NaN   \n",
       "456252                             NaN                        NaN   \n",
       "456253                             0.0                        1.0   \n",
       "456254                             0.0                        0.0   \n",
       "456255                             0.0                        2.0   \n",
       "\n",
       "            AMT_REQ_CREDIT_BUREAU_QRT  AMT_REQ_CREDIT_BUREAU_YEAR  \n",
       "SK_ID_CURR                                                         \n",
       "100002                            0.0                         1.0  \n",
       "100003                            0.0                         0.0  \n",
       "100004                            0.0                         0.0  \n",
       "100006                            NaN                         NaN  \n",
       "100007                            0.0                         0.0  \n",
       "...                               ...                         ...  \n",
       "456251                            NaN                         NaN  \n",
       "456252                            NaN                         NaN  \n",
       "456253                            0.0                         1.0  \n",
       "456254                            0.0                         0.0  \n",
       "456255                            0.0                         1.0  \n",
       "\n",
       "[307511 rows x 121 columns]"
      ]
     },
     "metadata": {},
     "execution_count": 5
    }
   ],
   "metadata": {}
  },
  {
   "cell_type": "markdown",
   "source": [
    "### Dans une pipeline de prétraitements"
   ],
   "metadata": {}
  },
  {
   "cell_type": "code",
   "execution_count": 3,
   "source": [
    "X_train, X_test, y_train, y_test = train_test_split(df.iloc[:,1:], df.iloc[:,0],\n",
    "                                                    test_size=.2)\n",
    "\n",
    "train_prep = prep.fit_transform(X_train, y_train)\n",
    "print(train_prep.shape)\n",
    "#print(train_prep.shape)"
   ],
   "outputs": [
    {
     "output_type": "stream",
     "name": "stdout",
     "text": [
      "(246008, 237)\n"
     ]
    }
   ],
   "metadata": {}
  },
  {
   "cell_type": "code",
   "execution_count": 4,
   "source": [
    "train_prep[:5]"
   ],
   "outputs": [
    {
     "output_type": "execute_result",
     "data": {
      "text/plain": [
       "array([[0.07041798, 0.06742717, 0.05723906, ..., 0.        , 0.        ,\n",
       "        0.        ],\n",
       "       [0.15842697, 0.2458231 , 0.15937149, ..., 0.        , 0.        ,\n",
       "        0.        ],\n",
       "       [0.04719101, 0.03624079, 0.04826038, ..., 0.        , 1.        ,\n",
       "        0.        ],\n",
       "       [0.12282584, 0.09124254, 0.10549944, ..., 0.        , 1.        ,\n",
       "        0.        ],\n",
       "       [0.02247191, 0.04956125, 0.02356902, ..., 0.        , 0.        ,\n",
       "        0.        ]])"
      ]
     },
     "metadata": {},
     "execution_count": 4
    }
   ],
   "metadata": {}
  },
  {
   "cell_type": "code",
   "execution_count": 5,
   "source": [
    "from preprocessing import get_preprocessed_set_column_names as get_feat_names\n",
    "\n",
    "print(get_feat_names(prep))"
   ],
   "outputs": [
    {
     "output_type": "stream",
     "name": "stdout",
     "text": [
      "['AMT_CREDIT', 'AMT_ANNUITY', 'AMT_GOODS_PRICE', 'CNT_CHILDREN', 'AMT_INCOME_TOTAL', 'REGION_POPULATION_RELATIVE', 'DAYS_BIRTH', 'DAYS_EMPLOYED', 'DAYS_REGISTRATION', 'DAYS_ID_PUBLISH', 'OWN_CAR_AGE', 'CNT_FAM_MEMBERS', 'REGION_RATING_CLIENT', 'REGION_RATING_CLIENT_W_CITY', 'HOUR_APPR_PROCESS_START', 'EXT_SOURCE_1', 'EXT_SOURCE_2', 'EXT_SOURCE_3', 'OBS_30_CNT_SOCIAL_CIRCLE', 'DEF_30_CNT_SOCIAL_CIRCLE', 'OBS_60_CNT_SOCIAL_CIRCLE', 'DEF_60_CNT_SOCIAL_CIRCLE', 'DAYS_LAST_PHONE_CHANGE', 'AMT_REQ_CREDIT_BUREAU_HOUR', 'AMT_REQ_CREDIT_BUREAU_DAY', 'AMT_REQ_CREDIT_BUREAU_WEEK', 'AMT_REQ_CREDIT_BUREAU_MON', 'AMT_REQ_CREDIT_BUREAU_QRT', 'AMT_REQ_CREDIT_BUREAU_YEAR', 'APARTMENTS_AVG', 'BASEMENTAREA_AVG', 'YEARS_BEGINEXPLUATATION_AVG', 'YEARS_BUILD_AVG', 'COMMONAREA_AVG', 'ELEVATORS_AVG', 'ENTRANCES_AVG', 'FLOORSMAX_AVG', 'FLOORSMIN_AVG', 'LANDAREA_AVG', 'LIVINGAPARTMENTS_AVG', 'LIVINGAREA_AVG', 'NONLIVINGAPARTMENTS_AVG', 'NONLIVINGAREA_AVG', 'APARTMENTS_MEDI', 'BASEMENTAREA_MEDI', 'YEARS_BEGINEXPLUATATION_MEDI', 'YEARS_BUILD_MEDI', 'COMMONAREA_MEDI', 'ELEVATORS_MEDI', 'ENTRANCES_MEDI', 'FLOORSMAX_MEDI', 'FLOORSMIN_MEDI', 'LANDAREA_MEDI', 'LIVINGAPARTMENTS_MEDI', 'LIVINGAREA_MEDI', 'NONLIVINGAPARTMENTS_MEDI', 'NONLIVINGAREA_MEDI', 'APARTMENTS_MODE', 'BASEMENTAREA_MODE', 'YEARS_BEGINEXPLUATATION_MODE', 'YEARS_BUILD_MODE', 'COMMONAREA_MODE', 'ELEVATORS_MODE', 'ENTRANCES_MODE', 'FLOORSMAX_MODE', 'FLOORSMIN_MODE', 'LANDAREA_MODE', 'LIVINGAPARTMENTS_MODE', 'LIVINGAREA_MODE', 'NONLIVINGAPARTMENTS_MODE', 'NONLIVINGAREA_MODE', 'TOTALAREA_MODE', 'NAME_CONTRACT_TYPE', 'FLAG_OWN_CAR', 'FLAG_OWN_REALTY', 'EMERGENCYSTATE_MODE', 'CODE_GENDER', 'WEEKDAY_APPR_PROCESS_START', 'FLAG_MOBIL', 'FLAG_EMP_PHONE', 'FLAG_WORK_PHONE', 'FLAG_CONT_MOBILE', 'FLAG_PHONE', 'FLAG_EMAIL', 'REG_REGION_NOT_LIVE_REGION', 'REG_REGION_NOT_WORK_REGION', 'LIVE_REGION_NOT_WORK_REGION', 'REG_CITY_NOT_LIVE_CITY', 'REG_CITY_NOT_WORK_CITY', 'LIVE_CITY_NOT_WORK_CITY', 'FLAG_DOCUMENT_2', 'FLAG_DOCUMENT_3', 'FLAG_DOCUMENT_4', 'FLAG_DOCUMENT_5', 'FLAG_DOCUMENT_6', 'FLAG_DOCUMENT_7', 'FLAG_DOCUMENT_8', 'FLAG_DOCUMENT_9', 'FLAG_DOCUMENT_10', 'FLAG_DOCUMENT_11', 'FLAG_DOCUMENT_12', 'FLAG_DOCUMENT_13', 'FLAG_DOCUMENT_14', 'FLAG_DOCUMENT_15', 'FLAG_DOCUMENT_16', 'FLAG_DOCUMENT_17', 'FLAG_DOCUMENT_18', 'FLAG_DOCUMENT_19', 'FLAG_DOCUMENT_20', 'FLAG_DOCUMENT_21', 'NAME_TYPE_SUITE_children', 'NAME_TYPE_SUITE_family', 'NAME_TYPE_SUITE_group_of_people', 'NAME_TYPE_SUITE_other_a', 'NAME_TYPE_SUITE_other_b', 'NAME_TYPE_SUITE_spouse_or_partner', 'NAME_TYPE_SUITE_unaccompanied', 'NAME_TYPE_SUITE_unknown', 'NAME_INCOME_TYPE_businessman', 'NAME_INCOME_TYPE_commercial_associate', 'NAME_INCOME_TYPE_maternity_leave', 'NAME_INCOME_TYPE_pensioner', 'NAME_INCOME_TYPE_state_servant', 'NAME_INCOME_TYPE_student', 'NAME_INCOME_TYPE_unemployed', 'NAME_INCOME_TYPE_working', 'NAME_EDUCATION_TYPE_academic_degree', 'NAME_EDUCATION_TYPE_higher_education', 'NAME_EDUCATION_TYPE_incomplete_higher', 'NAME_EDUCATION_TYPE_lower_secondary', 'NAME_EDUCATION_TYPE_secondary_or_secondary_special', 'NAME_FAMILY_STATUS_civil_marriage', 'NAME_FAMILY_STATUS_married', 'NAME_FAMILY_STATUS_separated', 'NAME_FAMILY_STATUS_single_or_not_married', 'NAME_FAMILY_STATUS_unknown', 'NAME_FAMILY_STATUS_widow', 'NAME_HOUSING_TYPE_coop_apartment', 'NAME_HOUSING_TYPE_house_or_apartment', 'NAME_HOUSING_TYPE_municipal_apartment', 'NAME_HOUSING_TYPE_office_apartment', 'NAME_HOUSING_TYPE_rented_apartment', 'NAME_HOUSING_TYPE_with_parents', 'OCCUPATION_TYPE_accountants', 'OCCUPATION_TYPE_cleaning_staff', 'OCCUPATION_TYPE_cooking_staff', 'OCCUPATION_TYPE_core_staff', 'OCCUPATION_TYPE_drivers', 'OCCUPATION_TYPE_high_skill_tech_staff', 'OCCUPATION_TYPE_hr_staff', 'OCCUPATION_TYPE_it_staff', 'OCCUPATION_TYPE_laborers', 'OCCUPATION_TYPE_lowskill_laborers', 'OCCUPATION_TYPE_managers', 'OCCUPATION_TYPE_medicine_staff', 'OCCUPATION_TYPE_private_service_staff', 'OCCUPATION_TYPE_realty_agents', 'OCCUPATION_TYPE_sales_staff', 'OCCUPATION_TYPE_secretaries', 'OCCUPATION_TYPE_security_staff', 'OCCUPATION_TYPE_unknown', 'OCCUPATION_TYPE_waitersorbarmen_staff', 'ORGANIZATION_TYPE_advertising', 'ORGANIZATION_TYPE_agriculture', 'ORGANIZATION_TYPE_bank', 'ORGANIZATION_TYPE_business_entity_type_1', 'ORGANIZATION_TYPE_business_entity_type_2', 'ORGANIZATION_TYPE_business_entity_type_3', 'ORGANIZATION_TYPE_cleaning', 'ORGANIZATION_TYPE_construction', 'ORGANIZATION_TYPE_culture', 'ORGANIZATION_TYPE_electricity', 'ORGANIZATION_TYPE_emergency', 'ORGANIZATION_TYPE_government', 'ORGANIZATION_TYPE_hotel', 'ORGANIZATION_TYPE_housing', 'ORGANIZATION_TYPE_industry_type_1', 'ORGANIZATION_TYPE_industry_type_10', 'ORGANIZATION_TYPE_industry_type_11', 'ORGANIZATION_TYPE_industry_type_12', 'ORGANIZATION_TYPE_industry_type_13', 'ORGANIZATION_TYPE_industry_type_2', 'ORGANIZATION_TYPE_industry_type_3', 'ORGANIZATION_TYPE_industry_type_4', 'ORGANIZATION_TYPE_industry_type_5', 'ORGANIZATION_TYPE_industry_type_6', 'ORGANIZATION_TYPE_industry_type_7', 'ORGANIZATION_TYPE_industry_type_8', 'ORGANIZATION_TYPE_industry_type_9', 'ORGANIZATION_TYPE_insurance', 'ORGANIZATION_TYPE_kindergarten', 'ORGANIZATION_TYPE_legal_services', 'ORGANIZATION_TYPE_medicine', 'ORGANIZATION_TYPE_military', 'ORGANIZATION_TYPE_mobile', 'ORGANIZATION_TYPE_other', 'ORGANIZATION_TYPE_police', 'ORGANIZATION_TYPE_postal', 'ORGANIZATION_TYPE_realtor', 'ORGANIZATION_TYPE_religion', 'ORGANIZATION_TYPE_restaurant', 'ORGANIZATION_TYPE_school', 'ORGANIZATION_TYPE_security', 'ORGANIZATION_TYPE_security_ministries', 'ORGANIZATION_TYPE_selfemployed', 'ORGANIZATION_TYPE_services', 'ORGANIZATION_TYPE_telecom', 'ORGANIZATION_TYPE_trade_type_1', 'ORGANIZATION_TYPE_trade_type_2', 'ORGANIZATION_TYPE_trade_type_3', 'ORGANIZATION_TYPE_trade_type_4', 'ORGANIZATION_TYPE_trade_type_5', 'ORGANIZATION_TYPE_trade_type_6', 'ORGANIZATION_TYPE_trade_type_7', 'ORGANIZATION_TYPE_transport_type_1', 'ORGANIZATION_TYPE_transport_type_2', 'ORGANIZATION_TYPE_transport_type_3', 'ORGANIZATION_TYPE_transport_type_4', 'ORGANIZATION_TYPE_university', 'ORGANIZATION_TYPE_xna', 'FONDKAPREMONT_MODE_not_specified', 'FONDKAPREMONT_MODE_org_spec_account', 'FONDKAPREMONT_MODE_reg_oper_account', 'FONDKAPREMONT_MODE_reg_oper_spec_account', 'FONDKAPREMONT_MODE_unknown', 'HOUSETYPE_MODE_block_of_flats', 'HOUSETYPE_MODE_specific_housing', 'HOUSETYPE_MODE_terraced_house', 'HOUSETYPE_MODE_unknown', 'WALLSMATERIAL_MODE_block', 'WALLSMATERIAL_MODE_mixed', 'WALLSMATERIAL_MODE_monolithic', 'WALLSMATERIAL_MODE_others', 'WALLSMATERIAL_MODE_panel', 'WALLSMATERIAL_MODE_stone_or_brick', 'WALLSMATERIAL_MODE_unknown', 'WALLSMATERIAL_MODE_wooden']\n"
     ]
    }
   ],
   "metadata": {}
  },
  {
   "cell_type": "markdown",
   "source": [
    "## Test de Random Undersampler"
   ],
   "metadata": {}
  },
  {
   "cell_type": "code",
   "execution_count": 3,
   "source": [
    "rand_usampl = RandomUnderSampler()"
   ],
   "outputs": [],
   "metadata": {}
  },
  {
   "cell_type": "code",
   "execution_count": 7,
   "source": [
    "X_train, X_test, y_train, y_test = train_test_split(df.iloc[:,1:], df.iloc[:,0],\n",
    "                                                    test_size=.2)\n",
    "resampling = rand_usampl.fit_resample(X_train, y_train)"
   ],
   "outputs": [],
   "metadata": {}
  },
  {
   "cell_type": "code",
   "execution_count": 9,
   "source": [
    "resampling[0].shape"
   ],
   "outputs": [
    {
     "output_type": "execute_result",
     "data": {
      "text/plain": [
       "(39798, 120)"
      ]
     },
     "metadata": {},
     "execution_count": 9
    }
   ],
   "metadata": {}
  },
  {
   "cell_type": "code",
   "execution_count": 11,
   "source": [
    "resampling[1].value_counts()"
   ],
   "outputs": [
    {
     "output_type": "execute_result",
     "data": {
      "text/plain": [
       "0    19899\n",
       "1    19899\n",
       "Name: TARGET, dtype: int64"
      ]
     },
     "metadata": {},
     "execution_count": 11
    }
   ],
   "metadata": {}
  },
  {
   "cell_type": "markdown",
   "source": [
    "## Essais avec un classifieur en arbre de décision"
   ],
   "metadata": {}
  },
  {
   "cell_type": "code",
   "execution_count": 4,
   "source": [
    "tree_imb = Pipeline(steps=[\n",
    "    ('r', rand_usampl),\n",
    "    ('p', prep_no_scl),\n",
    "    ('m', DecisionTreeClassifier())\n",
    "    ])"
   ],
   "outputs": [],
   "metadata": {}
  },
  {
   "cell_type": "code",
   "execution_count": 5,
   "source": [
    "X_train, X_test, y_train, y_test = train_test_split(df.iloc[:,1:], df.iloc[:,0],\n",
    "                                                    test_size=.2)"
   ],
   "outputs": [],
   "metadata": {}
  },
  {
   "cell_type": "code",
   "execution_count": 6,
   "source": [
    "tree_imb.fit(X_train, y_train)"
   ],
   "outputs": [
    {
     "output_type": "execute_result",
     "data": {
      "text/plain": [
       "Pipeline(steps=[('r', RandomUnderSampler()),\n",
       "                ('p',\n",
       "                 ColumnTransformer(remainder='passthrough',\n",
       "                                   transformers=[('creditinfosimputer',\n",
       "                                                  CreditInfosImputer(),\n",
       "                                                  ['AMT_CREDIT', 'AMT_ANNUITY',\n",
       "                                                   'AMT_GOODS_PRICE']),\n",
       "                                                 ('simpleimputer-1',\n",
       "                                                  SimpleImputer(strategy='median'),\n",
       "                                                  ['CNT_CHILDREN',\n",
       "                                                   'AMT_INCOME_TOTAL',\n",
       "                                                   'REGION_POPULATION_RELATIVE',\n",
       "                                                   'DAYS_BIRTH',\n",
       "                                                   'DAYS_EMPLOYED',\n",
       "                                                   'DAYS_REGI...\n",
       "                                                                   FunctionTransformer(func=<function <lambda> at 0x7f15f0bb90d0>)),\n",
       "                                                                  ('encoder',\n",
       "                                                                   OneHotEncoder(handle_unknown='ignore'))]),\n",
       "                                                  ['NAME_TYPE_SUITE',\n",
       "                                                   'NAME_INCOME_TYPE',\n",
       "                                                   'NAME_EDUCATION_TYPE',\n",
       "                                                   'NAME_FAMILY_STATUS',\n",
       "                                                   'NAME_HOUSING_TYPE',\n",
       "                                                   'OCCUPATION_TYPE',\n",
       "                                                   'ORGANIZATION_TYPE',\n",
       "                                                   'FONDKAPREMONT_MODE',\n",
       "                                                   'HOUSETYPE_MODE',\n",
       "                                                   'WALLSMATERIAL_MODE'])])),\n",
       "                ('m', DecisionTreeClassifier())])"
      ]
     },
     "metadata": {},
     "execution_count": 6
    }
   ],
   "metadata": {}
  },
  {
   "cell_type": "code",
   "execution_count": 7,
   "source": [
    "y_pred = tree_imb.predict(X_test)"
   ],
   "outputs": [],
   "metadata": {}
  },
  {
   "cell_type": "code",
   "execution_count": 8,
   "source": [
    "report = classification_report(y_test, y_pred)\n",
    "print(report)"
   ],
   "outputs": [
    {
     "output_type": "stream",
     "name": "stdout",
     "text": [
      "              precision    recall  f1-score   support\n",
      "\n",
      "           0       0.94      0.59      0.72     56559\n",
      "           1       0.11      0.60      0.19      4944\n",
      "\n",
      "    accuracy                           0.59     61503\n",
      "   macro avg       0.53      0.59      0.46     61503\n",
      "weighted avg       0.88      0.59      0.68     61503\n",
      "\n"
     ]
    }
   ],
   "metadata": {}
  },
  {
   "cell_type": "code",
   "execution_count": 13,
   "source": [
    "conf_mat = confusion_matrix(y_test, y_pred)\n",
    "print(conf_mat)"
   ],
   "outputs": [
    {
     "output_type": "stream",
     "name": "stdout",
     "text": [
      "[[33287 23272]\n",
      " [ 1997  2947]]\n"
     ]
    }
   ],
   "metadata": {}
  },
  {
   "cell_type": "markdown",
   "source": [
    "# 2021-10-01 : Selection du meilleur modèle"
   ],
   "metadata": {}
  },
  {
   "cell_type": "code",
   "execution_count": 8,
   "source": [
    "# Importations\n",
    "import sys\n",
    "sys.path.append('..')\n",
    "\n",
    "# Bibliothèques utiles\n",
    "import pandas as pd\n",
    "import numpy as np\n",
    "import matplotlib.pyplot as plt\n",
    "#import seaborn as sns\n",
    "\n",
    "# Prétraitements et rééquilibrage\n",
    "from preprocessing import preprocessor, preprocessor_no_scaler\n",
    "from imblearn.under_sampling import RandomUnderSampler\n",
    "from imblearn.pipeline import Pipeline\n",
    "\n",
    "# Modèles\n",
    "from sklearn.model_selection import train_test_split\n",
    "from sklearn.tree import DecisionTreeClassifier\n",
    "from sklearn.ensemble import RandomForestClassifier, AdaBoostClassifier\n",
    "from lightgbm import LGBMClassifier\n",
    "\n",
    "# Évaluation\n",
    "from sklearn.metrics import classification_report, confusion_matrix\n",
    "\n",
    "# Autres\n",
    "from timer import timer\n",
    "from styles import *"
   ],
   "outputs": [],
   "metadata": {}
  },
  {
   "cell_type": "code",
   "execution_count": 9,
   "source": [
    "# Initialisation\n",
    "train = pd.read_csv('../02_data/application_train.csv', index_col=0)\n",
    "#test = pd.read_csv('../02_data/application_test.csv')\n",
    "\n",
    "print('Training set dimensions :', train.shape)\n",
    "df = train.copy()\n",
    "\n",
    "cls_size = df.TARGET.value_counts()\n",
    "cls_freq = df.TARGET.value_counts(normalize=True)\n",
    "print(pd.DataFrame({'size': cls_size,\n",
    "                    'freq': cls_freq.apply(lambda x: '%.2f' % x)}))"
   ],
   "outputs": [
    {
     "output_type": "stream",
     "name": "stdout",
     "text": [
      "Training set dimensions : (307511, 121)\n",
      "     size  freq\n",
      "0  282686  0.92\n",
      "1   24825  0.08\n"
     ]
    }
   ],
   "metadata": {}
  },
  {
   "cell_type": "code",
   "execution_count": 10,
   "source": [
    "df.head()"
   ],
   "outputs": [
    {
     "output_type": "execute_result",
     "data": {
      "text/html": [
       "<div>\n",
       "<style scoped>\n",
       "    .dataframe tbody tr th:only-of-type {\n",
       "        vertical-align: middle;\n",
       "    }\n",
       "\n",
       "    .dataframe tbody tr th {\n",
       "        vertical-align: top;\n",
       "    }\n",
       "\n",
       "    .dataframe thead th {\n",
       "        text-align: right;\n",
       "    }\n",
       "</style>\n",
       "<table border=\"1\" class=\"dataframe\">\n",
       "  <thead>\n",
       "    <tr style=\"text-align: right;\">\n",
       "      <th></th>\n",
       "      <th>TARGET</th>\n",
       "      <th>NAME_CONTRACT_TYPE</th>\n",
       "      <th>CODE_GENDER</th>\n",
       "      <th>FLAG_OWN_CAR</th>\n",
       "      <th>FLAG_OWN_REALTY</th>\n",
       "      <th>CNT_CHILDREN</th>\n",
       "      <th>AMT_INCOME_TOTAL</th>\n",
       "      <th>AMT_CREDIT</th>\n",
       "      <th>AMT_ANNUITY</th>\n",
       "      <th>AMT_GOODS_PRICE</th>\n",
       "      <th>...</th>\n",
       "      <th>FLAG_DOCUMENT_18</th>\n",
       "      <th>FLAG_DOCUMENT_19</th>\n",
       "      <th>FLAG_DOCUMENT_20</th>\n",
       "      <th>FLAG_DOCUMENT_21</th>\n",
       "      <th>AMT_REQ_CREDIT_BUREAU_HOUR</th>\n",
       "      <th>AMT_REQ_CREDIT_BUREAU_DAY</th>\n",
       "      <th>AMT_REQ_CREDIT_BUREAU_WEEK</th>\n",
       "      <th>AMT_REQ_CREDIT_BUREAU_MON</th>\n",
       "      <th>AMT_REQ_CREDIT_BUREAU_QRT</th>\n",
       "      <th>AMT_REQ_CREDIT_BUREAU_YEAR</th>\n",
       "    </tr>\n",
       "    <tr>\n",
       "      <th>SK_ID_CURR</th>\n",
       "      <th></th>\n",
       "      <th></th>\n",
       "      <th></th>\n",
       "      <th></th>\n",
       "      <th></th>\n",
       "      <th></th>\n",
       "      <th></th>\n",
       "      <th></th>\n",
       "      <th></th>\n",
       "      <th></th>\n",
       "      <th></th>\n",
       "      <th></th>\n",
       "      <th></th>\n",
       "      <th></th>\n",
       "      <th></th>\n",
       "      <th></th>\n",
       "      <th></th>\n",
       "      <th></th>\n",
       "      <th></th>\n",
       "      <th></th>\n",
       "      <th></th>\n",
       "    </tr>\n",
       "  </thead>\n",
       "  <tbody>\n",
       "    <tr>\n",
       "      <th>100002</th>\n",
       "      <td>1</td>\n",
       "      <td>Cash loans</td>\n",
       "      <td>M</td>\n",
       "      <td>N</td>\n",
       "      <td>Y</td>\n",
       "      <td>0</td>\n",
       "      <td>202500.0</td>\n",
       "      <td>406597.5</td>\n",
       "      <td>24700.5</td>\n",
       "      <td>351000.0</td>\n",
       "      <td>...</td>\n",
       "      <td>0</td>\n",
       "      <td>0</td>\n",
       "      <td>0</td>\n",
       "      <td>0</td>\n",
       "      <td>0.0</td>\n",
       "      <td>0.0</td>\n",
       "      <td>0.0</td>\n",
       "      <td>0.0</td>\n",
       "      <td>0.0</td>\n",
       "      <td>1.0</td>\n",
       "    </tr>\n",
       "    <tr>\n",
       "      <th>100003</th>\n",
       "      <td>0</td>\n",
       "      <td>Cash loans</td>\n",
       "      <td>F</td>\n",
       "      <td>N</td>\n",
       "      <td>N</td>\n",
       "      <td>0</td>\n",
       "      <td>270000.0</td>\n",
       "      <td>1293502.5</td>\n",
       "      <td>35698.5</td>\n",
       "      <td>1129500.0</td>\n",
       "      <td>...</td>\n",
       "      <td>0</td>\n",
       "      <td>0</td>\n",
       "      <td>0</td>\n",
       "      <td>0</td>\n",
       "      <td>0.0</td>\n",
       "      <td>0.0</td>\n",
       "      <td>0.0</td>\n",
       "      <td>0.0</td>\n",
       "      <td>0.0</td>\n",
       "      <td>0.0</td>\n",
       "    </tr>\n",
       "    <tr>\n",
       "      <th>100004</th>\n",
       "      <td>0</td>\n",
       "      <td>Revolving loans</td>\n",
       "      <td>M</td>\n",
       "      <td>Y</td>\n",
       "      <td>Y</td>\n",
       "      <td>0</td>\n",
       "      <td>67500.0</td>\n",
       "      <td>135000.0</td>\n",
       "      <td>6750.0</td>\n",
       "      <td>135000.0</td>\n",
       "      <td>...</td>\n",
       "      <td>0</td>\n",
       "      <td>0</td>\n",
       "      <td>0</td>\n",
       "      <td>0</td>\n",
       "      <td>0.0</td>\n",
       "      <td>0.0</td>\n",
       "      <td>0.0</td>\n",
       "      <td>0.0</td>\n",
       "      <td>0.0</td>\n",
       "      <td>0.0</td>\n",
       "    </tr>\n",
       "    <tr>\n",
       "      <th>100006</th>\n",
       "      <td>0</td>\n",
       "      <td>Cash loans</td>\n",
       "      <td>F</td>\n",
       "      <td>N</td>\n",
       "      <td>Y</td>\n",
       "      <td>0</td>\n",
       "      <td>135000.0</td>\n",
       "      <td>312682.5</td>\n",
       "      <td>29686.5</td>\n",
       "      <td>297000.0</td>\n",
       "      <td>...</td>\n",
       "      <td>0</td>\n",
       "      <td>0</td>\n",
       "      <td>0</td>\n",
       "      <td>0</td>\n",
       "      <td>NaN</td>\n",
       "      <td>NaN</td>\n",
       "      <td>NaN</td>\n",
       "      <td>NaN</td>\n",
       "      <td>NaN</td>\n",
       "      <td>NaN</td>\n",
       "    </tr>\n",
       "    <tr>\n",
       "      <th>100007</th>\n",
       "      <td>0</td>\n",
       "      <td>Cash loans</td>\n",
       "      <td>M</td>\n",
       "      <td>N</td>\n",
       "      <td>Y</td>\n",
       "      <td>0</td>\n",
       "      <td>121500.0</td>\n",
       "      <td>513000.0</td>\n",
       "      <td>21865.5</td>\n",
       "      <td>513000.0</td>\n",
       "      <td>...</td>\n",
       "      <td>0</td>\n",
       "      <td>0</td>\n",
       "      <td>0</td>\n",
       "      <td>0</td>\n",
       "      <td>0.0</td>\n",
       "      <td>0.0</td>\n",
       "      <td>0.0</td>\n",
       "      <td>0.0</td>\n",
       "      <td>0.0</td>\n",
       "      <td>0.0</td>\n",
       "    </tr>\n",
       "  </tbody>\n",
       "</table>\n",
       "<p>5 rows × 121 columns</p>\n",
       "</div>"
      ],
      "text/plain": [
       "            TARGET NAME_CONTRACT_TYPE CODE_GENDER FLAG_OWN_CAR  \\\n",
       "SK_ID_CURR                                                       \n",
       "100002           1         Cash loans           M            N   \n",
       "100003           0         Cash loans           F            N   \n",
       "100004           0    Revolving loans           M            Y   \n",
       "100006           0         Cash loans           F            N   \n",
       "100007           0         Cash loans           M            N   \n",
       "\n",
       "           FLAG_OWN_REALTY  CNT_CHILDREN  AMT_INCOME_TOTAL  AMT_CREDIT  \\\n",
       "SK_ID_CURR                                                               \n",
       "100002                   Y             0          202500.0    406597.5   \n",
       "100003                   N             0          270000.0   1293502.5   \n",
       "100004                   Y             0           67500.0    135000.0   \n",
       "100006                   Y             0          135000.0    312682.5   \n",
       "100007                   Y             0          121500.0    513000.0   \n",
       "\n",
       "            AMT_ANNUITY  AMT_GOODS_PRICE  ... FLAG_DOCUMENT_18  \\\n",
       "SK_ID_CURR                                ...                    \n",
       "100002          24700.5         351000.0  ...                0   \n",
       "100003          35698.5        1129500.0  ...                0   \n",
       "100004           6750.0         135000.0  ...                0   \n",
       "100006          29686.5         297000.0  ...                0   \n",
       "100007          21865.5         513000.0  ...                0   \n",
       "\n",
       "           FLAG_DOCUMENT_19 FLAG_DOCUMENT_20 FLAG_DOCUMENT_21  \\\n",
       "SK_ID_CURR                                                      \n",
       "100002                    0                0                0   \n",
       "100003                    0                0                0   \n",
       "100004                    0                0                0   \n",
       "100006                    0                0                0   \n",
       "100007                    0                0                0   \n",
       "\n",
       "           AMT_REQ_CREDIT_BUREAU_HOUR  AMT_REQ_CREDIT_BUREAU_DAY  \\\n",
       "SK_ID_CURR                                                         \n",
       "100002                            0.0                        0.0   \n",
       "100003                            0.0                        0.0   \n",
       "100004                            0.0                        0.0   \n",
       "100006                            NaN                        NaN   \n",
       "100007                            0.0                        0.0   \n",
       "\n",
       "            AMT_REQ_CREDIT_BUREAU_WEEK  AMT_REQ_CREDIT_BUREAU_MON  \\\n",
       "SK_ID_CURR                                                          \n",
       "100002                             0.0                        0.0   \n",
       "100003                             0.0                        0.0   \n",
       "100004                             0.0                        0.0   \n",
       "100006                             NaN                        NaN   \n",
       "100007                             0.0                        0.0   \n",
       "\n",
       "            AMT_REQ_CREDIT_BUREAU_QRT  AMT_REQ_CREDIT_BUREAU_YEAR  \n",
       "SK_ID_CURR                                                         \n",
       "100002                            0.0                         1.0  \n",
       "100003                            0.0                         0.0  \n",
       "100004                            0.0                         0.0  \n",
       "100006                            NaN                         NaN  \n",
       "100007                            0.0                         0.0  \n",
       "\n",
       "[5 rows x 121 columns]"
      ]
     },
     "metadata": {},
     "execution_count": 10
    }
   ],
   "metadata": {}
  },
  {
   "cell_type": "code",
   "execution_count": 11,
   "source": [
    "# Définition des modèles à tester\n",
    "\n",
    "# Pour les besoin de l'évaluation, on fige l'aléatoire\n",
    "# On définit un nombre pour la graine d'aléa\n",
    "r = 42\n",
    "\n",
    "undersampler = RandomUnderSampler(random_state=r)\n",
    "\n",
    "decision_tree = Pipeline([('u', undersampler),\n",
    "                          ('p', preprocessor_no_scaler),\n",
    "                          ('m', DecisionTreeClassifier(random_state=r))])\n",
    "\n",
    "random_forest = Pipeline([('u', undersampler),\n",
    "                          ('p', preprocessor_no_scaler),\n",
    "                          ('m', RandomForestClassifier(random_state=r))])\n",
    "\n",
    "ada_boost = Pipeline([('u', undersampler),\n",
    "                      ('p', preprocessor_no_scaler),\n",
    "                      ('m', AdaBoostClassifier(random_state=r))])\n",
    "\n",
    "light_gbm = Pipeline([('u', undersampler),\n",
    "                      ('p', preprocessor_no_scaler),\n",
    "                      ('m', LGBMClassifier(random_state=r))])\n",
    "\n",
    "# Liste des modèles à tester\n",
    "models = {'decision_tree': decision_tree,\n",
    "          'random_forest': random_forest,\n",
    "          'ada_boost': ada_boost,\n",
    "          'light_gbm': light_gbm}\n"
   ],
   "outputs": [],
   "metadata": {}
  },
  {
   "cell_type": "code",
   "execution_count": 13,
   "source": [
    "# Séparation du jeu de données entre entraînement et évaluation\n",
    "\n",
    "X_train, X_test, y_train, y_test = train_test_split(df.iloc[:,1:], df.iloc[:,0],\n",
    "                                                    test_size=.2,\n",
    "                                                    random_state=r)"
   ],
   "outputs": [],
   "metadata": {}
  },
  {
   "cell_type": "code",
   "execution_count": 14,
   "source": [
    "# Fonction d'évaluation des modèles\n",
    "@timer\n",
    "def model_eval(model, X_test, y_test):\n",
    "    y_pred = model.predict(X_test)\n",
    "    print(confusion_matrix(y_test, y_pred))\n",
    "    print(classification_report(y_test, y_pred))"
   ],
   "outputs": [],
   "metadata": {}
  },
  {
   "cell_type": "code",
   "execution_count": 15,
   "source": [
    "# Boucle d'évaluation des modèles\n",
    "for model_name, model in models.items():\n",
    "    print(model_name)\n",
    "    model_eval(model.fit(X_train, y_train), X_test, y_test)"
   ],
   "outputs": [
    {
     "output_type": "stream",
     "name": "stdout",
     "text": [
      "decision_tree\n",
      "[[33054 23500]\n",
      " [ 1988  2961]]\n",
      "              precision    recall  f1-score   support\n",
      "\n",
      "           0       0.94      0.58      0.72     56554\n",
      "           1       0.11      0.60      0.19      4949\n",
      "\n",
      "    accuracy                           0.59     61503\n",
      "   macro avg       0.53      0.59      0.46     61503\n",
      "weighted avg       0.88      0.59      0.68     61503\n",
      "\n",
      "'model_eval': successfully processed in 0h00m01.463322s.\n",
      "random_forest\n",
      "[[39363 17191]\n",
      " [ 1668  3281]]\n",
      "              precision    recall  f1-score   support\n",
      "\n",
      "           0       0.96      0.70      0.81     56554\n",
      "           1       0.16      0.66      0.26      4949\n",
      "\n",
      "    accuracy                           0.69     61503\n",
      "   macro avg       0.56      0.68      0.53     61503\n",
      "weighted avg       0.90      0.69      0.76     61503\n",
      "\n",
      "'model_eval': successfully processed in 0h00m04.185277s.\n",
      "ada_boost\n",
      "[[38574 17980]\n",
      " [ 1612  3337]]\n",
      "              precision    recall  f1-score   support\n",
      "\n",
      "           0       0.96      0.68      0.80     56554\n",
      "           1       0.16      0.67      0.25      4949\n",
      "\n",
      "    accuracy                           0.68     61503\n",
      "   macro avg       0.56      0.68      0.53     61503\n",
      "weighted avg       0.90      0.68      0.75     61503\n",
      "\n",
      "'model_eval': successfully processed in 0h00m04.028799s.\n",
      "light_gbm\n",
      "[[39085 17469]\n",
      " [ 1584  3365]]\n",
      "              precision    recall  f1-score   support\n",
      "\n",
      "           0       0.96      0.69      0.80     56554\n",
      "           1       0.16      0.68      0.26      4949\n",
      "\n",
      "    accuracy                           0.69     61503\n",
      "   macro avg       0.56      0.69      0.53     61503\n",
      "weighted avg       0.90      0.69      0.76     61503\n",
      "\n",
      "'model_eval': successfully processed in 0h00m01.748678s.\n"
     ]
    }
   ],
   "metadata": {}
  },
  {
   "cell_type": "markdown",
   "source": [
    "## Sélection des meilleures variables"
   ],
   "metadata": {}
  },
  {
   "cell_type": "code",
   "execution_count": 7,
   "source": [
    "from preprocessing import get_preprocessed_set_column_names as get_feat_names\n",
    "\n",
    "def get_feature_importances(model):\n",
    "    '''Fonction qui retourne l'importance relative des variables\n",
    "    pour un modèle donné et un jeu d'entraînement donné'''\n",
    "    feat_names = get_feat_names(model['p'])\n",
    "    feat_impor = model['m'].feature_importances_\n",
    "\n",
    "    importances = pd.Series(data={k:v for k,v in zip(feat_names,feat_impor)},\n",
    "                            index=feat_names)\n",
    "    \n",
    "    return importances"
   ],
   "outputs": [],
   "metadata": {}
  },
  {
   "cell_type": "code",
   "execution_count": 9,
   "source": [
    "models_feat_importances = []\n",
    "for model in models.values():\n",
    "    feat_importances = get_feature_importances(model.fit(X_train, y_train))\n",
    "    models_feat_importances.append(feat_importances)"
   ],
   "outputs": [],
   "metadata": {}
  },
  {
   "cell_type": "code",
   "execution_count": 25,
   "source": [
    "feature_importances = pd.DataFrame(np.asarray(models_feat_importances).T,\n",
    "                                   columns=models.keys(),\n",
    "                                   index=feat_importances.index)"
   ],
   "outputs": [],
   "metadata": {}
  },
  {
   "cell_type": "code",
   "execution_count": 26,
   "source": [
    "feature_importances"
   ],
   "outputs": [
    {
     "output_type": "execute_result",
     "data": {
      "text/html": [
       "<div>\n",
       "<style scoped>\n",
       "    .dataframe tbody tr th:only-of-type {\n",
       "        vertical-align: middle;\n",
       "    }\n",
       "\n",
       "    .dataframe tbody tr th {\n",
       "        vertical-align: top;\n",
       "    }\n",
       "\n",
       "    .dataframe thead th {\n",
       "        text-align: right;\n",
       "    }\n",
       "</style>\n",
       "<table border=\"1\" class=\"dataframe\">\n",
       "  <thead>\n",
       "    <tr style=\"text-align: right;\">\n",
       "      <th></th>\n",
       "      <th>decision_tree</th>\n",
       "      <th>random_forest</th>\n",
       "      <th>ada_boost</th>\n",
       "      <th>light_gbm</th>\n",
       "    </tr>\n",
       "  </thead>\n",
       "  <tbody>\n",
       "    <tr>\n",
       "      <th>AMT_CREDIT</th>\n",
       "      <td>0.028085</td>\n",
       "      <td>0.030102</td>\n",
       "      <td>0.04</td>\n",
       "      <td>164.0</td>\n",
       "    </tr>\n",
       "    <tr>\n",
       "      <th>AMT_ANNUITY</th>\n",
       "      <td>0.037893</td>\n",
       "      <td>0.029764</td>\n",
       "      <td>0.06</td>\n",
       "      <td>126.0</td>\n",
       "    </tr>\n",
       "    <tr>\n",
       "      <th>AMT_GOODS_PRICE</th>\n",
       "      <td>0.020147</td>\n",
       "      <td>0.027110</td>\n",
       "      <td>0.04</td>\n",
       "      <td>125.0</td>\n",
       "    </tr>\n",
       "    <tr>\n",
       "      <th>CNT_CHILDREN</th>\n",
       "      <td>0.003156</td>\n",
       "      <td>0.006277</td>\n",
       "      <td>0.00</td>\n",
       "      <td>4.0</td>\n",
       "    </tr>\n",
       "    <tr>\n",
       "      <th>AMT_INCOME_TOTAL</th>\n",
       "      <td>0.026114</td>\n",
       "      <td>0.022582</td>\n",
       "      <td>0.00</td>\n",
       "      <td>59.0</td>\n",
       "    </tr>\n",
       "    <tr>\n",
       "      <th>...</th>\n",
       "      <td>...</td>\n",
       "      <td>...</td>\n",
       "      <td>...</td>\n",
       "      <td>...</td>\n",
       "    </tr>\n",
       "    <tr>\n",
       "      <th>WALLSMATERIAL_MODE_others</th>\n",
       "      <td>0.000268</td>\n",
       "      <td>0.000255</td>\n",
       "      <td>0.00</td>\n",
       "      <td>3.0</td>\n",
       "    </tr>\n",
       "    <tr>\n",
       "      <th>WALLSMATERIAL_MODE_panel</th>\n",
       "      <td>0.001925</td>\n",
       "      <td>0.001424</td>\n",
       "      <td>0.00</td>\n",
       "      <td>3.0</td>\n",
       "    </tr>\n",
       "    <tr>\n",
       "      <th>WALLSMATERIAL_MODE_stone_or_brick</th>\n",
       "      <td>0.000730</td>\n",
       "      <td>0.001638</td>\n",
       "      <td>0.00</td>\n",
       "      <td>5.0</td>\n",
       "    </tr>\n",
       "    <tr>\n",
       "      <th>WALLSMATERIAL_MODE_unknown</th>\n",
       "      <td>0.000796</td>\n",
       "      <td>0.001221</td>\n",
       "      <td>0.00</td>\n",
       "      <td>0.0</td>\n",
       "    </tr>\n",
       "    <tr>\n",
       "      <th>WALLSMATERIAL_MODE_wooden</th>\n",
       "      <td>0.000187</td>\n",
       "      <td>0.000425</td>\n",
       "      <td>0.00</td>\n",
       "      <td>0.0</td>\n",
       "    </tr>\n",
       "  </tbody>\n",
       "</table>\n",
       "<p>235 rows × 4 columns</p>\n",
       "</div>"
      ],
      "text/plain": [
       "                                   decision_tree  random_forest  ada_boost  \\\n",
       "AMT_CREDIT                              0.028085       0.030102       0.04   \n",
       "AMT_ANNUITY                             0.037893       0.029764       0.06   \n",
       "AMT_GOODS_PRICE                         0.020147       0.027110       0.04   \n",
       "CNT_CHILDREN                            0.003156       0.006277       0.00   \n",
       "AMT_INCOME_TOTAL                        0.026114       0.022582       0.00   \n",
       "...                                          ...            ...        ...   \n",
       "WALLSMATERIAL_MODE_others               0.000268       0.000255       0.00   \n",
       "WALLSMATERIAL_MODE_panel                0.001925       0.001424       0.00   \n",
       "WALLSMATERIAL_MODE_stone_or_brick       0.000730       0.001638       0.00   \n",
       "WALLSMATERIAL_MODE_unknown              0.000796       0.001221       0.00   \n",
       "WALLSMATERIAL_MODE_wooden               0.000187       0.000425       0.00   \n",
       "\n",
       "                                   light_gbm  \n",
       "AMT_CREDIT                             164.0  \n",
       "AMT_ANNUITY                            126.0  \n",
       "AMT_GOODS_PRICE                        125.0  \n",
       "CNT_CHILDREN                             4.0  \n",
       "AMT_INCOME_TOTAL                        59.0  \n",
       "...                                      ...  \n",
       "WALLSMATERIAL_MODE_others                3.0  \n",
       "WALLSMATERIAL_MODE_panel                 3.0  \n",
       "WALLSMATERIAL_MODE_stone_or_brick        5.0  \n",
       "WALLSMATERIAL_MODE_unknown               0.0  \n",
       "WALLSMATERIAL_MODE_wooden                0.0  \n",
       "\n",
       "[235 rows x 4 columns]"
      ]
     },
     "metadata": {},
     "execution_count": 26
    }
   ],
   "metadata": {}
  },
  {
   "cell_type": "code",
   "execution_count": 28,
   "source": [
    "feature_importances.random_forest.sort_values(ascending=False)[:10]"
   ],
   "outputs": [
    {
     "output_type": "execute_result",
     "data": {
      "text/plain": [
       "EXT_SOURCE_3              0.066009\n",
       "EXT_SOURCE_2              0.058289\n",
       "DAYS_BIRTH                0.035045\n",
       "DAYS_ID_PUBLISH           0.031081\n",
       "DAYS_EMPLOYED             0.031006\n",
       "DAYS_REGISTRATION         0.030382\n",
       "AMT_CREDIT                0.030102\n",
       "AMT_ANNUITY               0.029764\n",
       "DAYS_LAST_PHONE_CHANGE    0.029719\n",
       "EXT_SOURCE_1              0.029667\n",
       "Name: random_forest, dtype: float64"
      ]
     },
     "metadata": {},
     "execution_count": 28
    }
   ],
   "metadata": {}
  },
  {
   "cell_type": "code",
   "execution_count": 75,
   "source": [
    "feature_importances.loc[feature_importances.random_forest>.01, 'random_forest']"
   ],
   "outputs": [
    {
     "output_type": "execute_result",
     "data": {
      "text/plain": [
       "AMT_CREDIT                    0.030102\n",
       "AMT_ANNUITY                   0.029764\n",
       "AMT_GOODS_PRICE               0.027110\n",
       "AMT_INCOME_TOTAL              0.022582\n",
       "REGION_POPULATION_RELATIVE    0.024402\n",
       "DAYS_BIRTH                    0.035045\n",
       "DAYS_EMPLOYED                 0.031006\n",
       "DAYS_REGISTRATION             0.030382\n",
       "DAYS_ID_PUBLISH               0.031081\n",
       "OWN_CAR_AGE                   0.013606\n",
       "HOUR_APPR_PROCESS_START       0.020213\n",
       "EXT_SOURCE_1                  0.029667\n",
       "EXT_SOURCE_2                  0.058289\n",
       "EXT_SOURCE_3                  0.066009\n",
       "OBS_30_CNT_SOCIAL_CIRCLE      0.011771\n",
       "OBS_60_CNT_SOCIAL_CIRCLE      0.011660\n",
       "DAYS_LAST_PHONE_CHANGE        0.029719\n",
       "AMT_REQ_CREDIT_BUREAU_YEAR    0.014977\n",
       "WEEKDAY_APPR_PROCESS_START    0.015063\n",
       "Name: random_forest, dtype: float64"
      ]
     },
     "metadata": {},
     "execution_count": 75
    }
   ],
   "metadata": {}
  },
  {
   "cell_type": "code",
   "execution_count": 31,
   "source": [
    "feature_importances.random_forest.sort_values(ascending=True)[:20]"
   ],
   "outputs": [
    {
     "output_type": "execute_result",
     "data": {
      "text/plain": [
       "FLAG_DOCUMENT_12                       0.000000e+00\n",
       "FLAG_MOBIL                             0.000000e+00\n",
       "FLAG_DOCUMENT_10                       0.000000e+00\n",
       "NAME_INCOME_TYPE_student               7.755177e-07\n",
       "NAME_INCOME_TYPE_maternity_leave       8.323829e-07\n",
       "FLAG_DOCUMENT_4                        8.579669e-07\n",
       "ORGANIZATION_TYPE_trade_type_5         9.448861e-06\n",
       "ORGANIZATION_TYPE_industry_type_8      1.011750e-05\n",
       "FLAG_DOCUMENT_17                       1.314697e-05\n",
       "FLAG_DOCUMENT_2                        1.463591e-05\n",
       "NAME_EDUCATION_TYPE_academic_degree    1.693411e-05\n",
       "NAME_INCOME_TYPE_unemployed            1.808568e-05\n",
       "FLAG_DOCUMENT_7                        1.831941e-05\n",
       "ORGANIZATION_TYPE_trade_type_4         2.260609e-05\n",
       "ORGANIZATION_TYPE_religion             2.468980e-05\n",
       "FLAG_DOCUMENT_21                       2.786900e-05\n",
       "ORGANIZATION_TYPE_industry_type_13     2.858213e-05\n",
       "FLAG_DOCUMENT_20                       2.930056e-05\n",
       "FLAG_DOCUMENT_19                       3.994547e-05\n",
       "ORGANIZATION_TYPE_transport_type_1     4.145015e-05\n",
       "Name: random_forest, dtype: float64"
      ]
     },
     "metadata": {},
     "execution_count": 31
    }
   ],
   "metadata": {}
  },
  {
   "cell_type": "code",
   "execution_count": 39,
   "source": [
    "feature_importances.filter(like='FLAG', axis=0)"
   ],
   "outputs": [
    {
     "output_type": "execute_result",
     "data": {
      "text/html": [
       "<div>\n",
       "<style scoped>\n",
       "    .dataframe tbody tr th:only-of-type {\n",
       "        vertical-align: middle;\n",
       "    }\n",
       "\n",
       "    .dataframe tbody tr th {\n",
       "        vertical-align: top;\n",
       "    }\n",
       "\n",
       "    .dataframe thead th {\n",
       "        text-align: right;\n",
       "    }\n",
       "</style>\n",
       "<table border=\"1\" class=\"dataframe\">\n",
       "  <thead>\n",
       "    <tr style=\"text-align: right;\">\n",
       "      <th></th>\n",
       "      <th>decision_tree</th>\n",
       "      <th>random_forest</th>\n",
       "      <th>ada_boost</th>\n",
       "      <th>light_gbm</th>\n",
       "    </tr>\n",
       "  </thead>\n",
       "  <tbody>\n",
       "    <tr>\n",
       "      <th>FLAG_OWN_CAR</th>\n",
       "      <td>0.002822</td>\n",
       "      <td>4.525899e-03</td>\n",
       "      <td>0.00</td>\n",
       "      <td>20.0</td>\n",
       "    </tr>\n",
       "    <tr>\n",
       "      <th>FLAG_OWN_REALTY</th>\n",
       "      <td>0.003491</td>\n",
       "      <td>4.594735e-03</td>\n",
       "      <td>0.00</td>\n",
       "      <td>4.0</td>\n",
       "    </tr>\n",
       "    <tr>\n",
       "      <th>FLAG_MOBIL</th>\n",
       "      <td>0.000000</td>\n",
       "      <td>0.000000e+00</td>\n",
       "      <td>0.00</td>\n",
       "      <td>0.0</td>\n",
       "    </tr>\n",
       "    <tr>\n",
       "      <th>FLAG_EMP_PHONE</th>\n",
       "      <td>0.000809</td>\n",
       "      <td>1.878337e-03</td>\n",
       "      <td>0.00</td>\n",
       "      <td>0.0</td>\n",
       "    </tr>\n",
       "    <tr>\n",
       "      <th>FLAG_WORK_PHONE</th>\n",
       "      <td>0.002898</td>\n",
       "      <td>3.960218e-03</td>\n",
       "      <td>0.00</td>\n",
       "      <td>13.0</td>\n",
       "    </tr>\n",
       "    <tr>\n",
       "      <th>FLAG_CONT_MOBILE</th>\n",
       "      <td>0.000000</td>\n",
       "      <td>1.172968e-04</td>\n",
       "      <td>0.00</td>\n",
       "      <td>0.0</td>\n",
       "    </tr>\n",
       "    <tr>\n",
       "      <th>FLAG_PHONE</th>\n",
       "      <td>0.003093</td>\n",
       "      <td>4.482902e-03</td>\n",
       "      <td>0.00</td>\n",
       "      <td>9.0</td>\n",
       "    </tr>\n",
       "    <tr>\n",
       "      <th>FLAG_EMAIL</th>\n",
       "      <td>0.002243</td>\n",
       "      <td>1.935600e-03</td>\n",
       "      <td>0.00</td>\n",
       "      <td>5.0</td>\n",
       "    </tr>\n",
       "    <tr>\n",
       "      <th>FLAG_DOCUMENT_2</th>\n",
       "      <td>0.000084</td>\n",
       "      <td>1.463591e-05</td>\n",
       "      <td>0.00</td>\n",
       "      <td>0.0</td>\n",
       "    </tr>\n",
       "    <tr>\n",
       "      <th>FLAG_DOCUMENT_3</th>\n",
       "      <td>0.002904</td>\n",
       "      <td>4.808394e-03</td>\n",
       "      <td>0.02</td>\n",
       "      <td>20.0</td>\n",
       "    </tr>\n",
       "    <tr>\n",
       "      <th>FLAG_DOCUMENT_4</th>\n",
       "      <td>0.000000</td>\n",
       "      <td>8.579669e-07</td>\n",
       "      <td>0.00</td>\n",
       "      <td>0.0</td>\n",
       "    </tr>\n",
       "    <tr>\n",
       "      <th>FLAG_DOCUMENT_5</th>\n",
       "      <td>0.000830</td>\n",
       "      <td>8.245323e-04</td>\n",
       "      <td>0.00</td>\n",
       "      <td>0.0</td>\n",
       "    </tr>\n",
       "    <tr>\n",
       "      <th>FLAG_DOCUMENT_6</th>\n",
       "      <td>0.001630</td>\n",
       "      <td>1.390590e-03</td>\n",
       "      <td>0.00</td>\n",
       "      <td>2.0</td>\n",
       "    </tr>\n",
       "    <tr>\n",
       "      <th>FLAG_DOCUMENT_7</th>\n",
       "      <td>0.000000</td>\n",
       "      <td>1.831941e-05</td>\n",
       "      <td>0.00</td>\n",
       "      <td>0.0</td>\n",
       "    </tr>\n",
       "    <tr>\n",
       "      <th>FLAG_DOCUMENT_8</th>\n",
       "      <td>0.002554</td>\n",
       "      <td>1.954104e-03</td>\n",
       "      <td>0.00</td>\n",
       "      <td>3.0</td>\n",
       "    </tr>\n",
       "    <tr>\n",
       "      <th>FLAG_DOCUMENT_9</th>\n",
       "      <td>0.000208</td>\n",
       "      <td>2.154229e-04</td>\n",
       "      <td>0.00</td>\n",
       "      <td>0.0</td>\n",
       "    </tr>\n",
       "    <tr>\n",
       "      <th>FLAG_DOCUMENT_10</th>\n",
       "      <td>0.000000</td>\n",
       "      <td>0.000000e+00</td>\n",
       "      <td>0.00</td>\n",
       "      <td>0.0</td>\n",
       "    </tr>\n",
       "    <tr>\n",
       "      <th>FLAG_DOCUMENT_11</th>\n",
       "      <td>0.000000</td>\n",
       "      <td>1.895722e-04</td>\n",
       "      <td>0.00</td>\n",
       "      <td>0.0</td>\n",
       "    </tr>\n",
       "    <tr>\n",
       "      <th>FLAG_DOCUMENT_12</th>\n",
       "      <td>0.000000</td>\n",
       "      <td>0.000000e+00</td>\n",
       "      <td>0.00</td>\n",
       "      <td>0.0</td>\n",
       "    </tr>\n",
       "    <tr>\n",
       "      <th>FLAG_DOCUMENT_13</th>\n",
       "      <td>0.000085</td>\n",
       "      <td>1.364794e-04</td>\n",
       "      <td>0.02</td>\n",
       "      <td>6.0</td>\n",
       "    </tr>\n",
       "    <tr>\n",
       "      <th>FLAG_DOCUMENT_14</th>\n",
       "      <td>0.000000</td>\n",
       "      <td>1.116039e-04</td>\n",
       "      <td>0.00</td>\n",
       "      <td>1.0</td>\n",
       "    </tr>\n",
       "    <tr>\n",
       "      <th>FLAG_DOCUMENT_15</th>\n",
       "      <td>0.000189</td>\n",
       "      <td>7.842460e-05</td>\n",
       "      <td>0.00</td>\n",
       "      <td>1.0</td>\n",
       "    </tr>\n",
       "    <tr>\n",
       "      <th>FLAG_DOCUMENT_16</th>\n",
       "      <td>0.000892</td>\n",
       "      <td>5.569794e-04</td>\n",
       "      <td>0.02</td>\n",
       "      <td>10.0</td>\n",
       "    </tr>\n",
       "    <tr>\n",
       "      <th>FLAG_DOCUMENT_17</th>\n",
       "      <td>0.000000</td>\n",
       "      <td>1.314697e-05</td>\n",
       "      <td>0.00</td>\n",
       "      <td>0.0</td>\n",
       "    </tr>\n",
       "    <tr>\n",
       "      <th>FLAG_DOCUMENT_18</th>\n",
       "      <td>0.000366</td>\n",
       "      <td>4.828858e-04</td>\n",
       "      <td>0.02</td>\n",
       "      <td>12.0</td>\n",
       "    </tr>\n",
       "    <tr>\n",
       "      <th>FLAG_DOCUMENT_19</th>\n",
       "      <td>0.000083</td>\n",
       "      <td>3.994547e-05</td>\n",
       "      <td>0.00</td>\n",
       "      <td>0.0</td>\n",
       "    </tr>\n",
       "    <tr>\n",
       "      <th>FLAG_DOCUMENT_20</th>\n",
       "      <td>0.000088</td>\n",
       "      <td>2.930056e-05</td>\n",
       "      <td>0.00</td>\n",
       "      <td>0.0</td>\n",
       "    </tr>\n",
       "    <tr>\n",
       "      <th>FLAG_DOCUMENT_21</th>\n",
       "      <td>0.000000</td>\n",
       "      <td>2.786900e-05</td>\n",
       "      <td>0.00</td>\n",
       "      <td>0.0</td>\n",
       "    </tr>\n",
       "  </tbody>\n",
       "</table>\n",
       "</div>"
      ],
      "text/plain": [
       "                  decision_tree  random_forest  ada_boost  light_gbm\n",
       "FLAG_OWN_CAR           0.002822   4.525899e-03       0.00       20.0\n",
       "FLAG_OWN_REALTY        0.003491   4.594735e-03       0.00        4.0\n",
       "FLAG_MOBIL             0.000000   0.000000e+00       0.00        0.0\n",
       "FLAG_EMP_PHONE         0.000809   1.878337e-03       0.00        0.0\n",
       "FLAG_WORK_PHONE        0.002898   3.960218e-03       0.00       13.0\n",
       "FLAG_CONT_MOBILE       0.000000   1.172968e-04       0.00        0.0\n",
       "FLAG_PHONE             0.003093   4.482902e-03       0.00        9.0\n",
       "FLAG_EMAIL             0.002243   1.935600e-03       0.00        5.0\n",
       "FLAG_DOCUMENT_2        0.000084   1.463591e-05       0.00        0.0\n",
       "FLAG_DOCUMENT_3        0.002904   4.808394e-03       0.02       20.0\n",
       "FLAG_DOCUMENT_4        0.000000   8.579669e-07       0.00        0.0\n",
       "FLAG_DOCUMENT_5        0.000830   8.245323e-04       0.00        0.0\n",
       "FLAG_DOCUMENT_6        0.001630   1.390590e-03       0.00        2.0\n",
       "FLAG_DOCUMENT_7        0.000000   1.831941e-05       0.00        0.0\n",
       "FLAG_DOCUMENT_8        0.002554   1.954104e-03       0.00        3.0\n",
       "FLAG_DOCUMENT_9        0.000208   2.154229e-04       0.00        0.0\n",
       "FLAG_DOCUMENT_10       0.000000   0.000000e+00       0.00        0.0\n",
       "FLAG_DOCUMENT_11       0.000000   1.895722e-04       0.00        0.0\n",
       "FLAG_DOCUMENT_12       0.000000   0.000000e+00       0.00        0.0\n",
       "FLAG_DOCUMENT_13       0.000085   1.364794e-04       0.02        6.0\n",
       "FLAG_DOCUMENT_14       0.000000   1.116039e-04       0.00        1.0\n",
       "FLAG_DOCUMENT_15       0.000189   7.842460e-05       0.00        1.0\n",
       "FLAG_DOCUMENT_16       0.000892   5.569794e-04       0.02       10.0\n",
       "FLAG_DOCUMENT_17       0.000000   1.314697e-05       0.00        0.0\n",
       "FLAG_DOCUMENT_18       0.000366   4.828858e-04       0.02       12.0\n",
       "FLAG_DOCUMENT_19       0.000083   3.994547e-05       0.00        0.0\n",
       "FLAG_DOCUMENT_20       0.000088   2.930056e-05       0.00        0.0\n",
       "FLAG_DOCUMENT_21       0.000000   2.786900e-05       0.00        0.0"
      ]
     },
     "metadata": {},
     "execution_count": 39
    }
   ],
   "metadata": {}
  },
  {
   "cell_type": "code",
   "execution_count": 64,
   "source": [
    "feat_importances[[f for f in feat_importances.index\n",
    "                  if f[-4:] in ['_AVG','MEDI','MODE']]]"
   ],
   "outputs": [
    {
     "output_type": "execute_result",
     "data": {
      "text/plain": [
       "APARTMENTS_AVG                  0.007541\n",
       "BASEMENTAREA_AVG                0.006809\n",
       "YEARS_BEGINEXPLUATATION_AVG     0.008415\n",
       "YEARS_BUILD_AVG                 0.005340\n",
       "COMMONAREA_AVG                  0.005424\n",
       "ELEVATORS_AVG                   0.003278\n",
       "ENTRANCES_AVG                   0.005277\n",
       "FLOORSMAX_AVG                   0.004091\n",
       "FLOORSMIN_AVG                   0.003219\n",
       "LANDAREA_AVG                    0.007067\n",
       "LIVINGAPARTMENTS_AVG            0.004940\n",
       "LIVINGAREA_AVG                  0.008482\n",
       "NONLIVINGAPARTMENTS_AVG         0.002860\n",
       "NONLIVINGAREA_AVG               0.005850\n",
       "APARTMENTS_MEDI                 0.007673\n",
       "BASEMENTAREA_MEDI               0.006966\n",
       "YEARS_BEGINEXPLUATATION_MEDI    0.008135\n",
       "YEARS_BUILD_MEDI                0.005243\n",
       "COMMONAREA_MEDI                 0.005467\n",
       "ELEVATORS_MEDI                  0.002044\n",
       "ENTRANCES_MEDI                  0.004274\n",
       "FLOORSMAX_MEDI                  0.003503\n",
       "FLOORSMIN_MEDI                  0.002558\n",
       "LANDAREA_MEDI                   0.007450\n",
       "LIVINGAPARTMENTS_MEDI           0.004996\n",
       "LIVINGAREA_MEDI                 0.008707\n",
       "NONLIVINGAPARTMENTS_MEDI        0.002049\n",
       "NONLIVINGAREA_MEDI              0.005901\n",
       "APARTMENTS_MODE                 0.007153\n",
       "BASEMENTAREA_MODE               0.006321\n",
       "YEARS_BEGINEXPLUATATION_MODE    0.008177\n",
       "YEARS_BUILD_MODE                0.005074\n",
       "COMMONAREA_MODE                 0.004939\n",
       "ELEVATORS_MODE                  0.001890\n",
       "ENTRANCES_MODE                  0.004283\n",
       "FLOORSMAX_MODE                  0.002937\n",
       "FLOORSMIN_MODE                  0.002337\n",
       "LANDAREA_MODE                   0.006584\n",
       "LIVINGAPARTMENTS_MODE           0.004852\n",
       "LIVINGAREA_MODE                 0.009084\n",
       "NONLIVINGAPARTMENTS_MODE        0.001811\n",
       "NONLIVINGAREA_MODE              0.004667\n",
       "TOTALAREA_MODE                  0.009740\n",
       "EMERGENCYSTATE_MODE             0.000334\n",
       "dtype: float64"
      ]
     },
     "metadata": {},
     "execution_count": 64
    }
   ],
   "metadata": {}
  },
  {
   "cell_type": "markdown",
   "source": [
    "* Les variables type `FLAG` semblent peu impactantes pour des modèles en arbre de décision\n",
    "* Il faut réduire les nombres de colonnes onehot pour les types de métiers et\n",
    "d'organisation car la cardinalité de ces variables est trop grande. Certaines catégories d'organisations ou de métiers sont trop spécifiques et peuvent être regroupées"
   ],
   "metadata": {}
  },
  {
   "cell_type": "code",
   "execution_count": 44,
   "source": [
    "df.ORGANIZATION_TYPE.unique()"
   ],
   "outputs": [
    {
     "output_type": "execute_result",
     "data": {
      "text/plain": [
       "array(['Business Entity Type 3', 'School', 'Government', 'Religion',\n",
       "       'Other', 'XNA', 'Electricity', 'Medicine',\n",
       "       'Business Entity Type 2', 'Self-employed', 'Transport: type 2',\n",
       "       'Construction', 'Housing', 'Kindergarten', 'Trade: type 7',\n",
       "       'Industry: type 11', 'Military', 'Services', 'Security Ministries',\n",
       "       'Transport: type 4', 'Industry: type 1', 'Emergency', 'Security',\n",
       "       'Trade: type 2', 'University', 'Transport: type 3', 'Police',\n",
       "       'Business Entity Type 1', 'Postal', 'Industry: type 4',\n",
       "       'Agriculture', 'Restaurant', 'Culture', 'Hotel',\n",
       "       'Industry: type 7', 'Trade: type 3', 'Industry: type 3', 'Bank',\n",
       "       'Industry: type 9', 'Insurance', 'Trade: type 6',\n",
       "       'Industry: type 2', 'Transport: type 1', 'Industry: type 12',\n",
       "       'Mobile', 'Trade: type 1', 'Industry: type 5', 'Industry: type 10',\n",
       "       'Legal Services', 'Advertising', 'Trade: type 5', 'Cleaning',\n",
       "       'Industry: type 13', 'Trade: type 4', 'Telecom',\n",
       "       'Industry: type 8', 'Realtor', 'Industry: type 6'], dtype=object)"
      ]
     },
     "metadata": {},
     "execution_count": 44
    }
   ],
   "metadata": {}
  },
  {
   "cell_type": "code",
   "execution_count": 62,
   "source": [
    "df.loc[df.ORGANIZATION_TYPE.str.match(r'^Industry'),\n",
    "       'ORGANIZATION_TYPE'] = 'Industry'\n",
    "df.loc[df.ORGANIZATION_TYPE.str.match(r'^Transport'),\n",
    "        'ORGANIZATION_TYPE'] = 'Transport'\n",
    "df.loc[df.ORGANIZATION_TYPE.str.match(r'^Trade'),\n",
    "        'ORGANIZATION_TYPE'] = 'Trade'\n",
    "df.loc[df.ORGANIZATION_TYPE.str.match(r'^Business Entity'),\n",
    "        'ORGANIZATION_TYPE'] = 'Business Entity'"
   ],
   "outputs": [],
   "metadata": {}
  },
  {
   "cell_type": "code",
   "execution_count": 64,
   "source": [
    "print(df.ORGANIZATION_TYPE.unique())\n",
    "print(len(df.ORGANIZATION_TYPE.unique()))"
   ],
   "outputs": [
    {
     "output_type": "stream",
     "name": "stdout",
     "text": [
      "['Business Entity' 'School' 'Government' 'Religion' 'Other' 'XNA'\n",
      " 'Electricity' 'Medicine' 'Self-employed' 'Transport' 'Construction'\n",
      " 'Housing' 'Kindergarten' 'Trade' 'Industry' 'Military' 'Services'\n",
      " 'Security Ministries' 'Emergency' 'Security' 'University' 'Police'\n",
      " 'Postal' 'Agriculture' 'Restaurant' 'Culture' 'Hotel' 'Bank' 'Insurance'\n",
      " 'Mobile' 'Legal Services' 'Advertising' 'Cleaning' 'Telecom' 'Realtor']\n",
      "35\n"
     ]
    }
   ],
   "metadata": {}
  },
  {
   "cell_type": "code",
   "execution_count": 65,
   "source": [
    "df.ORGANIZATION_TYPE.value_counts()"
   ],
   "outputs": [
    {
     "output_type": "execute_result",
     "data": {
      "text/plain": [
       "Business Entity        84529\n",
       "XNA                    55374\n",
       "Self-employed          38412\n",
       "Other                  16683\n",
       "Trade                  14315\n",
       "Industry               14311\n",
       "Medicine               11193\n",
       "Government             10404\n",
       "Transport               8990\n",
       "School                  8893\n",
       "Kindergarten            6880\n",
       "Construction            6721\n",
       "Security                3247\n",
       "Housing                 2958\n",
       "Military                2634\n",
       "Bank                    2507\n",
       "Agriculture             2454\n",
       "Police                  2341\n",
       "Postal                  2157\n",
       "Security Ministries     1974\n",
       "Restaurant              1811\n",
       "Services                1575\n",
       "University              1327\n",
       "Hotel                    966\n",
       "Electricity              950\n",
       "Insurance                597\n",
       "Telecom                  577\n",
       "Emergency                560\n",
       "Advertising              429\n",
       "Realtor                  396\n",
       "Culture                  379\n",
       "Mobile                   317\n",
       "Legal Services           305\n",
       "Cleaning                 260\n",
       "Religion                  85\n",
       "Name: ORGANIZATION_TYPE, dtype: int64"
      ]
     },
     "metadata": {},
     "execution_count": 65
    }
   ],
   "metadata": {}
  },
  {
   "cell_type": "code",
   "execution_count": 66,
   "source": [
    "preprocessor_no_scaler.fit_transform(df).shape"
   ],
   "outputs": [
    {
     "output_type": "execute_result",
     "data": {
      "text/plain": [
       "(307511, 215)"
      ]
     },
     "metadata": {},
     "execution_count": 66
    }
   ],
   "metadata": {}
  },
  {
   "cell_type": "code",
   "execution_count": 68,
   "source": [
    "# Séparation du jeu de données entre entraînement et évaluation\n",
    "\n",
    "X_train, X_test, y_train, y_test = train_test_split(df.iloc[:,1:], df.iloc[:,0],\n",
    "                                                    test_size=.2,\n",
    "                                                    random_state=r)"
   ],
   "outputs": [],
   "metadata": {}
  },
  {
   "cell_type": "code",
   "execution_count": 69,
   "source": [
    "# Boucle d'évaluation des modèles\n",
    "for model_name, model in models.items():\n",
    "    print(model_name)\n",
    "    model_eval(model.fit(X_train, y_train), X_test, y_test)"
   ],
   "outputs": [
    {
     "output_type": "stream",
     "name": "stdout",
     "text": [
      "decision_tree\n",
      "[[33134 23420]\n",
      " [ 2030  2919]]\n",
      "              precision    recall  f1-score   support\n",
      "\n",
      "           0       0.94      0.59      0.72     56554\n",
      "           1       0.11      0.59      0.19      4949\n",
      "\n",
      "    accuracy                           0.59     61503\n",
      "   macro avg       0.53      0.59      0.45     61503\n",
      "weighted avg       0.88      0.59      0.68     61503\n",
      "\n",
      "'model_eval': successfully processed in 0h00m01.840444s.\n",
      "random_forest\n",
      "[[39346 17208]\n",
      " [ 1713  3236]]\n",
      "              precision    recall  f1-score   support\n",
      "\n",
      "           0       0.96      0.70      0.81     56554\n",
      "           1       0.16      0.65      0.25      4949\n",
      "\n",
      "    accuracy                           0.69     61503\n",
      "   macro avg       0.56      0.67      0.53     61503\n",
      "weighted avg       0.89      0.69      0.76     61503\n",
      "\n",
      "'model_eval': successfully processed in 0h00m03.689332s.\n",
      "ada_boost\n",
      "[[38542 18012]\n",
      " [ 1614  3335]]\n",
      "              precision    recall  f1-score   support\n",
      "\n",
      "           0       0.96      0.68      0.80     56554\n",
      "           1       0.16      0.67      0.25      4949\n",
      "\n",
      "    accuracy                           0.68     61503\n",
      "   macro avg       0.56      0.68      0.53     61503\n",
      "weighted avg       0.90      0.68      0.75     61503\n",
      "\n",
      "'model_eval': successfully processed in 0h00m03.281466s.\n",
      "light_gbm\n",
      "[[39073 17481]\n",
      " [ 1558  3391]]\n",
      "              precision    recall  f1-score   support\n",
      "\n",
      "           0       0.96      0.69      0.80     56554\n",
      "           1       0.16      0.69      0.26      4949\n",
      "\n",
      "    accuracy                           0.69     61503\n",
      "   macro avg       0.56      0.69      0.53     61503\n",
      "weighted avg       0.90      0.69      0.76     61503\n",
      "\n",
      "'model_eval': successfully processed in 0h00m01.650653s.\n"
     ]
    }
   ],
   "metadata": {}
  },
  {
   "cell_type": "code",
   "execution_count": 70,
   "source": [
    "new_importances = get_feature_importances(random_forest)"
   ],
   "outputs": [],
   "metadata": {}
  },
  {
   "cell_type": "code",
   "execution_count": 72,
   "source": [
    "new_importances.sort_values(ascending=False)[:20]"
   ],
   "outputs": [
    {
     "output_type": "execute_result",
     "data": {
      "text/plain": [
       "EXT_SOURCE_3                  0.066164\n",
       "EXT_SOURCE_2                  0.061207\n",
       "DAYS_BIRTH                    0.034511\n",
       "DAYS_EMPLOYED                 0.031532\n",
       "DAYS_ID_PUBLISH               0.031449\n",
       "DAYS_LAST_PHONE_CHANGE        0.030263\n",
       "AMT_ANNUITY                   0.030164\n",
       "EXT_SOURCE_1                  0.030088\n",
       "DAYS_REGISTRATION             0.030017\n",
       "AMT_CREDIT                    0.029999\n",
       "AMT_GOODS_PRICE               0.027940\n",
       "REGION_POPULATION_RELATIVE    0.023971\n",
       "AMT_INCOME_TOTAL              0.023164\n",
       "HOUR_APPR_PROCESS_START       0.020020\n",
       "WEEKDAY_APPR_PROCESS_START    0.015229\n",
       "AMT_REQ_CREDIT_BUREAU_YEAR    0.014610\n",
       "OWN_CAR_AGE                   0.013775\n",
       "OBS_30_CNT_SOCIAL_CIRCLE      0.011943\n",
       "OBS_60_CNT_SOCIAL_CIRCLE      0.011638\n",
       "TOTALAREA_MODE                0.009789\n",
       "dtype: float64"
      ]
     },
     "metadata": {},
     "execution_count": 72
    }
   ],
   "metadata": {}
  },
  {
   "cell_type": "code",
   "execution_count": 73,
   "source": [
    "new_importances.sort_values(ascending=True)[:20]"
   ],
   "outputs": [
    {
     "output_type": "execute_result",
     "data": {
      "text/plain": [
       "FLAG_MOBIL                             0.000000\n",
       "FLAG_DOCUMENT_12                       0.000000\n",
       "FLAG_DOCUMENT_4                        0.000000\n",
       "FLAG_DOCUMENT_10                       0.000000\n",
       "NAME_INCOME_TYPE_maternity_leave       0.000002\n",
       "NAME_INCOME_TYPE_student               0.000003\n",
       "FLAG_DOCUMENT_7                        0.000007\n",
       "FLAG_DOCUMENT_17                       0.000011\n",
       "NAME_EDUCATION_TYPE_academic_degree    0.000013\n",
       "NAME_INCOME_TYPE_unemployed            0.000015\n",
       "FLAG_DOCUMENT_2                        0.000019\n",
       "FLAG_DOCUMENT_21                       0.000021\n",
       "FLAG_DOCUMENT_20                       0.000026\n",
       "ORGANIZATION_TYPE_religion             0.000027\n",
       "FLAG_DOCUMENT_19                       0.000042\n",
       "ORGANIZATION_TYPE_cleaning             0.000053\n",
       "OCCUPATION_TYPE_hr_staff               0.000063\n",
       "FLAG_DOCUMENT_15                       0.000069\n",
       "ORGANIZATION_TYPE_legal_services       0.000072\n",
       "ORGANIZATION_TYPE_realtor              0.000075\n",
       "dtype: float64"
      ]
     },
     "metadata": {},
     "execution_count": 73
    }
   ],
   "metadata": {}
  },
  {
   "cell_type": "markdown",
   "source": [
    "## Optimisation des hypers-paramètres"
   ],
   "metadata": {}
  },
  {
   "cell_type": "markdown",
   "source": [
    "On va optimiser les hypers-paramètres de light-gbm avec une RandomizedSearchCV"
   ],
   "metadata": {}
  },
  {
   "cell_type": "code",
   "execution_count": null,
   "source": [
    "# hyper optimisation (randomized search / hyperopt?)\n",
    "# (lien vers hyperopt : https://www.kaggle.com/shishu1421/lightgbm-using-hyperopt)\n",
    "# calcul seuil de décision basé sur coût crédit\n",
    "# Commencer la partie Flask\n",
    "# Streamlit (pour la partie dashboard web [https://streamlit.io/])"
   ],
   "outputs": [],
   "metadata": {}
  }
 ],
 "metadata": {
  "interpreter": {
   "hash": "e28ba1b0f05b7395975e75d076f4168a18cd6381404260e3ea0bab694b3a7839"
  },
  "kernelspec": {
   "name": "python3",
   "display_name": "Python 3.8.11 64-bit ('base': conda)"
  },
  "language_info": {
   "codemirror_mode": {
    "name": "ipython",
    "version": 3
   },
   "file_extension": ".py",
   "mimetype": "text/x-python",
   "name": "python",
   "nbconvert_exporter": "python",
   "pygments_lexer": "ipython3",
   "version": "3.8.11"
  },
  "toc": {
   "base_numbering": 1,
   "nav_menu": {},
   "number_sections": true,
   "sideBar": true,
   "skip_h1_title": false,
   "title_cell": "Table of Contents",
   "title_sidebar": "Contents",
   "toc_cell": false,
   "toc_position": {},
   "toc_section_display": true,
   "toc_window_display": true
  },
  "varInspector": {
   "cols": {
    "lenName": 16,
    "lenType": 16,
    "lenVar": 40
   },
   "kernels_config": {
    "python": {
     "delete_cmd_postfix": "",
     "delete_cmd_prefix": "del ",
     "library": "var_list.py",
     "varRefreshCmd": "print(var_dic_list())"
    },
    "r": {
     "delete_cmd_postfix": ") ",
     "delete_cmd_prefix": "rm(",
     "library": "var_list.r",
     "varRefreshCmd": "cat(var_dic_list()) "
    }
   },
   "types_to_exclude": [
    "module",
    "function",
    "builtin_function_or_method",
    "instance",
    "_Feature"
   ],
   "window_display": false
  }
 },
 "nbformat": 4,
 "nbformat_minor": 2
}