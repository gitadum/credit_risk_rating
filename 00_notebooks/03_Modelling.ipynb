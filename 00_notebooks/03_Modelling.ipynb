{
 "cells": [
  {
   "cell_type": "code",
   "execution_count": 1,
   "source": [
    "# Importations\n",
    "import sys\n",
    "sys.path.append('..')\n",
    "\n",
    "import pandas as pd\n",
    "#import numpy as np\n",
    "from sklearn.model_selection import train_test_split\n",
    "from sklearn.pipeline import make_pipeline\n",
    "from sklearn.linear_model import SGDClassifier\n",
    "from sklearn.ensemble import RandomForestClassifier\n",
    "from lightgbm import LGBMClassifier\n",
    "from sklearn.metrics import confusion_matrix, classification_report\n",
    "\n",
    "from preprocessing import preprocessor, preprocessor_without_scaler"
   ],
   "outputs": [],
   "metadata": {}
  },
  {
   "cell_type": "code",
   "execution_count": 6,
   "source": [
    "# Initialisation\n",
    "train = pd.read_csv('../02_data/application_train.csv')\n",
    "test = pd.read_csv('../02_data/application_test.csv')\n",
    "\n",
    "id_error_msg = lambda x: '`SK_ID_CURR` is not unic for {} set!'.format(x)\n",
    "assert len(train.SK_ID_CURR.unique()) == train.shape[0], id_error_msg('train')\n",
    "assert len(test.SK_ID_CURR.unique()) == test.shape[0], id_error_msg('test')\n",
    "train.set_index('SK_ID_CURR', inplace=True)\n",
    "test.set_index('SK_ID_CURR', inplace=True)\n",
    "\n",
    "print('Training set dimensions :', train.shape)\n",
    "\n",
    "cls_size = train.TARGET.value_counts()\n",
    "cls_freq = train.TARGET.value_counts(normalize=True)\n",
    "print(pd.DataFrame({'size': cls_size,\n",
    "                    'freq': cls_freq.apply(lambda x: '%.3f' % x)}))\n",
    "\n",
    "X, y = train.iloc[:, 1:], train.iloc[:, 0]\n",
    "X_train, X_test, y_train, y_test = train_test_split(X, y, test_size=.2)\n",
    "print('X_train:', X_train.shape)\n",
    "print('y_train:', y_train.shape)\n",
    "print('X_test:', X_test.shape)\n",
    "print('y_test:', y_test.shape)"
   ],
   "outputs": [
    {
     "output_type": "stream",
     "name": "stdout",
     "text": [
      "Training set dimensions : (307511, 121)\n",
      "     size   freq\n",
      "0  282686  0.919\n",
      "1   24825  0.081\n",
      "X_train: (246008, 120)\n",
      "y_train: (246008,)\n",
      "X_test: (61503, 120)\n",
      "y_test: (61503,)\n"
     ]
    }
   ],
   "metadata": {}
  },
  {
   "cell_type": "markdown",
   "source": [
    "# Modèle 1 : SGD Classifier"
   ],
   "metadata": {}
  },
  {
   "cell_type": "code",
   "execution_count": 6,
   "source": [
    "model1 = make_pipeline(preprocessor, SGDClassifier())\n",
    "model1.fit(X_train, y_train)\n",
    "print('Score:', model1.score(X_test, y_test))"
   ],
   "outputs": [
    {
     "output_type": "stream",
     "name": "stdout",
     "text": [
      "Score: 0.9189307838642018\n"
     ]
    }
   ],
   "metadata": {}
  },
  {
   "cell_type": "code",
   "execution_count": 7,
   "source": [
    "y_pred = model1.predict(X_test)\n",
    "conf_mat = confusion_matrix(y_test, y_pred)\n",
    "print(conf_mat)"
   ],
   "outputs": [
    {
     "output_type": "stream",
     "name": "stdout",
     "text": [
      "[[56517     0]\n",
      " [ 4986     0]]\n"
     ]
    }
   ],
   "metadata": {}
  },
  {
   "cell_type": "markdown",
   "source": [
    "# Modèle 2 : Random Forest Classifier"
   ],
   "metadata": {}
  },
  {
   "cell_type": "code",
   "execution_count": 8,
   "source": [
    "model2 = make_pipeline(preprocessor_without_scaler, RandomForestClassifier())\n",
    "model2.fit(X_train, y_train)\n",
    "print('Score:', model2.score(X_test, y_test))"
   ],
   "outputs": [
    {
     "output_type": "stream",
     "name": "stdout",
     "text": [
      "Score: 0.9189633026031251\n"
     ]
    }
   ],
   "metadata": {}
  },
  {
   "cell_type": "code",
   "execution_count": 9,
   "source": [
    "y_pred = model2.predict(X_test)\n",
    "conf_mat = confusion_matrix(y_test, y_pred)\n",
    "print(conf_mat)"
   ],
   "outputs": [
    {
     "output_type": "stream",
     "name": "stdout",
     "text": [
      "[[56512     5]\n",
      " [ 4979     7]]\n"
     ]
    }
   ],
   "metadata": {}
  },
  {
   "cell_type": "code",
   "execution_count": 11,
   "source": [
    "print(X_train[:5])"
   ],
   "outputs": [
    {
     "output_type": "stream",
     "name": "stdout",
     "text": [
      "           NAME_CONTRACT_TYPE CODE_GENDER FLAG_OWN_CAR FLAG_OWN_REALTY  \\\n",
      "SK_ID_CURR                                                               \n",
      "320991             Cash loans           F            N               Y   \n",
      "258600             Cash loans           M            N               Y   \n",
      "316389             Cash loans           F            N               Y   \n",
      "239474        Revolving loans           F            N               Y   \n",
      "135015             Cash loans           M            N               Y   \n",
      "\n",
      "            CNT_CHILDREN  AMT_INCOME_TOTAL  AMT_CREDIT  AMT_ANNUITY  \\\n",
      "SK_ID_CURR                                                            \n",
      "320991                 0          135000.0    189000.0       9778.5   \n",
      "258600                 0          112500.0    645889.5      21474.0   \n",
      "316389                 0           72000.0    315000.0      22954.5   \n",
      "239474                 0           94500.0    270000.0      13500.0   \n",
      "135015                 0          270000.0   1110582.0      36832.5   \n",
      "\n",
      "            AMT_GOODS_PRICE NAME_TYPE_SUITE  ... FLAG_DOCUMENT_18  \\\n",
      "SK_ID_CURR                                   ...                    \n",
      "320991             189000.0          Family  ...                0   \n",
      "258600             490500.0          Family  ...                0   \n",
      "316389             315000.0   Unaccompanied  ...                0   \n",
      "239474             270000.0   Unaccompanied  ...                0   \n",
      "135015             909000.0   Unaccompanied  ...                0   \n",
      "\n",
      "           FLAG_DOCUMENT_19 FLAG_DOCUMENT_20 FLAG_DOCUMENT_21  \\\n",
      "SK_ID_CURR                                                      \n",
      "320991                    0                0                0   \n",
      "258600                    0                0                0   \n",
      "316389                    0                0                0   \n",
      "239474                    0                0                0   \n",
      "135015                    0                0                0   \n",
      "\n",
      "            AMT_REQ_CREDIT_BUREAU_HOUR  AMT_REQ_CREDIT_BUREAU_DAY  \\\n",
      "SK_ID_CURR                                                          \n",
      "320991                             0.0                        0.0   \n",
      "258600                             0.0                        0.0   \n",
      "316389                             0.0                        0.0   \n",
      "239474                             0.0                        0.0   \n",
      "135015                             NaN                        NaN   \n",
      "\n",
      "            AMT_REQ_CREDIT_BUREAU_WEEK  AMT_REQ_CREDIT_BUREAU_MON  \\\n",
      "SK_ID_CURR                                                          \n",
      "320991                             0.0                        0.0   \n",
      "258600                             0.0                        0.0   \n",
      "316389                             0.0                        0.0   \n",
      "239474                             0.0                        0.0   \n",
      "135015                             NaN                        NaN   \n",
      "\n",
      "            AMT_REQ_CREDIT_BUREAU_QRT  AMT_REQ_CREDIT_BUREAU_YEAR  \n",
      "SK_ID_CURR                                                         \n",
      "320991                            2.0                         6.0  \n",
      "258600                            0.0                         0.0  \n",
      "316389                            0.0                         3.0  \n",
      "239474                            0.0                         4.0  \n",
      "135015                            NaN                         NaN  \n",
      "\n",
      "[5 rows x 120 columns]\n"
     ]
    }
   ],
   "metadata": {}
  },
  {
   "cell_type": "code",
   "execution_count": 6,
   "source": [
    "model2.get_params()"
   ],
   "outputs": [
    {
     "output_type": "execute_result",
     "data": {
      "text/plain": [
       "{'memory': None,\n",
       " 'steps': [('columntransformer',\n",
       "   ColumnTransformer(remainder='passthrough',\n",
       "                     transformers=[('simpleimputer-1',\n",
       "                                    SimpleImputer(strategy='median'),\n",
       "                                    ['CNT_CHILDREN', 'AMT_INCOME_TOTAL',\n",
       "                                     'AMT_CREDIT', 'AMT_ANNUITY',\n",
       "                                     'AMT_GOODS_PRICE',\n",
       "                                     'REGION_POPULATION_RELATIVE', 'DAYS_BIRTH',\n",
       "                                     'DAYS_EMPLOYED', 'DAYS_REGISTRATION',\n",
       "                                     'DAYS_ID_PUBLISH', 'OWN_CAR_AGE',\n",
       "                                     'CNT_FAM_MEMBERS', 'REGION_RATING_CLIENT',\n",
       "                                     'REGION_RAT...\n",
       "                                                     SimpleImputer(fill_value='Unknown',\n",
       "                                                                   strategy='constant')),\n",
       "                                                    ('value_formatter',\n",
       "                                                     FunctionTransformer(func=<function <lambda> at 0x7f1e9f7aa790>)),\n",
       "                                                    ('encoder', OneHotEncoder())]),\n",
       "                                    ['NAME_TYPE_SUITE', 'NAME_INCOME_TYPE',\n",
       "                                     'NAME_EDUCATION_TYPE', 'NAME_FAMILY_STATUS',\n",
       "                                     'NAME_HOUSING_TYPE', 'OCCUPATION_TYPE',\n",
       "                                     'ORGANIZATION_TYPE', 'FONDKAPREMONT_MODE',\n",
       "                                     'HOUSETYPE_MODE', 'WALLSMATERIAL_MODE'])])),\n",
       "  ('randomforestclassifier', RandomForestClassifier())],\n",
       " 'verbose': False,\n",
       " 'columntransformer': ColumnTransformer(remainder='passthrough',\n",
       "                   transformers=[('simpleimputer-1',\n",
       "                                  SimpleImputer(strategy='median'),\n",
       "                                  ['CNT_CHILDREN', 'AMT_INCOME_TOTAL',\n",
       "                                   'AMT_CREDIT', 'AMT_ANNUITY',\n",
       "                                   'AMT_GOODS_PRICE',\n",
       "                                   'REGION_POPULATION_RELATIVE', 'DAYS_BIRTH',\n",
       "                                   'DAYS_EMPLOYED', 'DAYS_REGISTRATION',\n",
       "                                   'DAYS_ID_PUBLISH', 'OWN_CAR_AGE',\n",
       "                                   'CNT_FAM_MEMBERS', 'REGION_RATING_CLIENT',\n",
       "                                   'REGION_RAT...\n",
       "                                                   SimpleImputer(fill_value='Unknown',\n",
       "                                                                 strategy='constant')),\n",
       "                                                  ('value_formatter',\n",
       "                                                   FunctionTransformer(func=<function <lambda> at 0x7f1e9f7aa790>)),\n",
       "                                                  ('encoder', OneHotEncoder())]),\n",
       "                                  ['NAME_TYPE_SUITE', 'NAME_INCOME_TYPE',\n",
       "                                   'NAME_EDUCATION_TYPE', 'NAME_FAMILY_STATUS',\n",
       "                                   'NAME_HOUSING_TYPE', 'OCCUPATION_TYPE',\n",
       "                                   'ORGANIZATION_TYPE', 'FONDKAPREMONT_MODE',\n",
       "                                   'HOUSETYPE_MODE', 'WALLSMATERIAL_MODE'])]),\n",
       " 'randomforestclassifier': RandomForestClassifier(),\n",
       " 'columntransformer__n_jobs': None,\n",
       " 'columntransformer__remainder': 'passthrough',\n",
       " 'columntransformer__sparse_threshold': 0.3,\n",
       " 'columntransformer__transformer_weights': None,\n",
       " 'columntransformer__transformers': [('simpleimputer-1',\n",
       "   SimpleImputer(strategy='median'),\n",
       "   ['CNT_CHILDREN',\n",
       "    'AMT_INCOME_TOTAL',\n",
       "    'AMT_CREDIT',\n",
       "    'AMT_ANNUITY',\n",
       "    'AMT_GOODS_PRICE',\n",
       "    'REGION_POPULATION_RELATIVE',\n",
       "    'DAYS_BIRTH',\n",
       "    'DAYS_EMPLOYED',\n",
       "    'DAYS_REGISTRATION',\n",
       "    'DAYS_ID_PUBLISH',\n",
       "    'OWN_CAR_AGE',\n",
       "    'CNT_FAM_MEMBERS',\n",
       "    'REGION_RATING_CLIENT',\n",
       "    'REGION_RATING_CLIENT_W_CITY',\n",
       "    'HOUR_APPR_PROCESS_START',\n",
       "    'EXT_SOURCE_1',\n",
       "    'EXT_SOURCE_2',\n",
       "    'EXT_SOURCE_3',\n",
       "    'OBS_30_CNT_SOCIAL_CIRCLE',\n",
       "    'DEF_30_CNT_SOCIAL_CIRCLE',\n",
       "    'OBS_60_CNT_SOCIAL_CIRCLE',\n",
       "    'DEF_60_CNT_SOCIAL_CIRCLE',\n",
       "    'DAYS_LAST_PHONE_CHANGE',\n",
       "    'AMT_REQ_CREDIT_BUREAU_HOUR',\n",
       "    'AMT_REQ_CREDIT_BUREAU_DAY',\n",
       "    'AMT_REQ_CREDIT_BUREAU_WEEK',\n",
       "    'AMT_REQ_CREDIT_BUREAU_MON',\n",
       "    'AMT_REQ_CREDIT_BUREAU_QRT',\n",
       "    'AMT_REQ_CREDIT_BUREAU_YEAR']),\n",
       "  ('simpleimputer-2',\n",
       "   SimpleImputer(),\n",
       "   ['APARTMENTS_AVG',\n",
       "    'BASEMENTAREA_AVG',\n",
       "    'YEARS_BEGINEXPLUATATION_AVG',\n",
       "    'YEARS_BUILD_AVG',\n",
       "    'COMMONAREA_AVG',\n",
       "    'ELEVATORS_AVG',\n",
       "    'ENTRANCES_AVG',\n",
       "    'FLOORSMAX_AVG',\n",
       "    'FLOORSMIN_AVG',\n",
       "    'LANDAREA_AVG',\n",
       "    'LIVINGAPARTMENTS_AVG',\n",
       "    'LIVINGAREA_AVG',\n",
       "    'NONLIVINGAPARTMENTS_AVG',\n",
       "    'NONLIVINGAREA_AVG']),\n",
       "  ('simpleimputer-3',\n",
       "   SimpleImputer(strategy='median'),\n",
       "   ['APARTMENTS_MEDI',\n",
       "    'BASEMENTAREA_MEDI',\n",
       "    'YEARS_BEGINEXPLUATATION_MEDI',\n",
       "    'YEARS_BUILD_MEDI',\n",
       "    'COMMONAREA_MEDI',\n",
       "    'ELEVATORS_MEDI',\n",
       "    'ENTRANCES_MEDI',\n",
       "    'FLOORSMAX_MEDI',\n",
       "    'FLOORSMIN_MEDI',\n",
       "    'LANDAREA_MEDI',\n",
       "    'LIVINGAPARTMENTS_MEDI',\n",
       "    'LIVINGAREA_MEDI',\n",
       "    'NONLIVINGAPARTMENTS_MEDI',\n",
       "    'NONLIVINGAREA_MEDI']),\n",
       "  ('simpleimputer-4',\n",
       "   SimpleImputer(strategy='most_frequent'),\n",
       "   ['APARTMENTS_MODE',\n",
       "    'BASEMENTAREA_MODE',\n",
       "    'YEARS_BEGINEXPLUATATION_MODE',\n",
       "    'YEARS_BUILD_MODE',\n",
       "    'COMMONAREA_MODE',\n",
       "    'ELEVATORS_MODE',\n",
       "    'ENTRANCES_MODE',\n",
       "    'FLOORSMAX_MODE',\n",
       "    'FLOORSMIN_MODE',\n",
       "    'LANDAREA_MODE',\n",
       "    'LIVINGAPARTMENTS_MODE',\n",
       "    'LIVINGAREA_MODE',\n",
       "    'NONLIVINGAPARTMENTS_MODE',\n",
       "    'NONLIVINGAREA_MODE',\n",
       "    'TOTALAREA_MODE']),\n",
       "  ('pipeline-1',\n",
       "   Pipeline(steps=[('nan_imputer', SimpleImputer(strategy='most_frequent')),\n",
       "                   ('xna_imputer',\n",
       "                    SimpleImputer(missing_values='XNA', strategy='most_frequent')),\n",
       "                   ('encoder',\n",
       "                    OrdinalEncoder(categories=[['Cash loans', 'Revolving loans'],\n",
       "                                               ['N', 'Y'], ['N', 'Y'],\n",
       "                                               ['No', 'Yes'], ['M', 'F'],\n",
       "                                               ['MONDAY', 'TUESDAY', 'WEDNESDAY',\n",
       "                                                'THURSDAY', 'FRIDAY', 'SATURDAY',\n",
       "                                                'SUNDAY']]))]),\n",
       "   ['NAME_CONTRACT_TYPE',\n",
       "    'FLAG_OWN_CAR',\n",
       "    'FLAG_OWN_REALTY',\n",
       "    'EMERGENCYSTATE_MODE',\n",
       "    'CODE_GENDER',\n",
       "    'WEEKDAY_APPR_PROCESS_START']),\n",
       "  ('pipeline-2',\n",
       "   Pipeline(steps=[('imputer', SimpleImputer(strategy='most_frequent'))]),\n",
       "   ['FLAG_MOBIL',\n",
       "    'FLAG_EMP_PHONE',\n",
       "    'FLAG_WORK_PHONE',\n",
       "    'FLAG_CONT_MOBILE',\n",
       "    'FLAG_PHONE',\n",
       "    'FLAG_EMAIL',\n",
       "    'REG_REGION_NOT_LIVE_REGION',\n",
       "    'REG_REGION_NOT_WORK_REGION',\n",
       "    'LIVE_REGION_NOT_WORK_REGION',\n",
       "    'REG_CITY_NOT_LIVE_CITY',\n",
       "    'REG_CITY_NOT_WORK_CITY',\n",
       "    'LIVE_CITY_NOT_WORK_CITY',\n",
       "    'FLAG_DOCUMENT_2',\n",
       "    'FLAG_DOCUMENT_3',\n",
       "    'FLAG_DOCUMENT_4',\n",
       "    'FLAG_DOCUMENT_5',\n",
       "    'FLAG_DOCUMENT_6',\n",
       "    'FLAG_DOCUMENT_7',\n",
       "    'FLAG_DOCUMENT_8',\n",
       "    'FLAG_DOCUMENT_9',\n",
       "    'FLAG_DOCUMENT_10',\n",
       "    'FLAG_DOCUMENT_11',\n",
       "    'FLAG_DOCUMENT_12',\n",
       "    'FLAG_DOCUMENT_13',\n",
       "    'FLAG_DOCUMENT_14',\n",
       "    'FLAG_DOCUMENT_15',\n",
       "    'FLAG_DOCUMENT_16',\n",
       "    'FLAG_DOCUMENT_17',\n",
       "    'FLAG_DOCUMENT_18',\n",
       "    'FLAG_DOCUMENT_19',\n",
       "    'FLAG_DOCUMENT_20',\n",
       "    'FLAG_DOCUMENT_21']),\n",
       "  ('pipeline-3',\n",
       "   Pipeline(steps=[('imputer',\n",
       "                    SimpleImputer(fill_value='Unknown', strategy='constant')),\n",
       "                   ('value_formatter',\n",
       "                    FunctionTransformer(func=<function <lambda> at 0x7f1e9f7aa790>)),\n",
       "                   ('encoder', OneHotEncoder())]),\n",
       "   ['NAME_TYPE_SUITE',\n",
       "    'NAME_INCOME_TYPE',\n",
       "    'NAME_EDUCATION_TYPE',\n",
       "    'NAME_FAMILY_STATUS',\n",
       "    'NAME_HOUSING_TYPE',\n",
       "    'OCCUPATION_TYPE',\n",
       "    'ORGANIZATION_TYPE',\n",
       "    'FONDKAPREMONT_MODE',\n",
       "    'HOUSETYPE_MODE',\n",
       "    'WALLSMATERIAL_MODE'])],\n",
       " 'columntransformer__verbose': False,\n",
       " 'columntransformer__simpleimputer-1': SimpleImputer(strategy='median'),\n",
       " 'columntransformer__simpleimputer-2': SimpleImputer(),\n",
       " 'columntransformer__simpleimputer-3': SimpleImputer(strategy='median'),\n",
       " 'columntransformer__simpleimputer-4': SimpleImputer(strategy='most_frequent'),\n",
       " 'columntransformer__pipeline-1': Pipeline(steps=[('nan_imputer', SimpleImputer(strategy='most_frequent')),\n",
       "                 ('xna_imputer',\n",
       "                  SimpleImputer(missing_values='XNA', strategy='most_frequent')),\n",
       "                 ('encoder',\n",
       "                  OrdinalEncoder(categories=[['Cash loans', 'Revolving loans'],\n",
       "                                             ['N', 'Y'], ['N', 'Y'],\n",
       "                                             ['No', 'Yes'], ['M', 'F'],\n",
       "                                             ['MONDAY', 'TUESDAY', 'WEDNESDAY',\n",
       "                                              'THURSDAY', 'FRIDAY', 'SATURDAY',\n",
       "                                              'SUNDAY']]))]),\n",
       " 'columntransformer__pipeline-2': Pipeline(steps=[('imputer', SimpleImputer(strategy='most_frequent'))]),\n",
       " 'columntransformer__pipeline-3': Pipeline(steps=[('imputer',\n",
       "                  SimpleImputer(fill_value='Unknown', strategy='constant')),\n",
       "                 ('value_formatter',\n",
       "                  FunctionTransformer(func=<function <lambda> at 0x7f1e9f7aa790>)),\n",
       "                 ('encoder', OneHotEncoder())]),\n",
       " 'columntransformer__simpleimputer-1__add_indicator': False,\n",
       " 'columntransformer__simpleimputer-1__copy': True,\n",
       " 'columntransformer__simpleimputer-1__fill_value': None,\n",
       " 'columntransformer__simpleimputer-1__missing_values': nan,\n",
       " 'columntransformer__simpleimputer-1__strategy': 'median',\n",
       " 'columntransformer__simpleimputer-1__verbose': 0,\n",
       " 'columntransformer__simpleimputer-2__add_indicator': False,\n",
       " 'columntransformer__simpleimputer-2__copy': True,\n",
       " 'columntransformer__simpleimputer-2__fill_value': None,\n",
       " 'columntransformer__simpleimputer-2__missing_values': nan,\n",
       " 'columntransformer__simpleimputer-2__strategy': 'mean',\n",
       " 'columntransformer__simpleimputer-2__verbose': 0,\n",
       " 'columntransformer__simpleimputer-3__add_indicator': False,\n",
       " 'columntransformer__simpleimputer-3__copy': True,\n",
       " 'columntransformer__simpleimputer-3__fill_value': None,\n",
       " 'columntransformer__simpleimputer-3__missing_values': nan,\n",
       " 'columntransformer__simpleimputer-3__strategy': 'median',\n",
       " 'columntransformer__simpleimputer-3__verbose': 0,\n",
       " 'columntransformer__simpleimputer-4__add_indicator': False,\n",
       " 'columntransformer__simpleimputer-4__copy': True,\n",
       " 'columntransformer__simpleimputer-4__fill_value': None,\n",
       " 'columntransformer__simpleimputer-4__missing_values': nan,\n",
       " 'columntransformer__simpleimputer-4__strategy': 'most_frequent',\n",
       " 'columntransformer__simpleimputer-4__verbose': 0,\n",
       " 'columntransformer__pipeline-1__memory': None,\n",
       " 'columntransformer__pipeline-1__steps': [('nan_imputer',\n",
       "   SimpleImputer(strategy='most_frequent')),\n",
       "  ('xna_imputer',\n",
       "   SimpleImputer(missing_values='XNA', strategy='most_frequent')),\n",
       "  ('encoder',\n",
       "   OrdinalEncoder(categories=[['Cash loans', 'Revolving loans'], ['N', 'Y'],\n",
       "                              ['N', 'Y'], ['No', 'Yes'], ['M', 'F'],\n",
       "                              ['MONDAY', 'TUESDAY', 'WEDNESDAY', 'THURSDAY',\n",
       "                               'FRIDAY', 'SATURDAY', 'SUNDAY']]))],\n",
       " 'columntransformer__pipeline-1__verbose': False,\n",
       " 'columntransformer__pipeline-1__nan_imputer': SimpleImputer(strategy='most_frequent'),\n",
       " 'columntransformer__pipeline-1__xna_imputer': SimpleImputer(missing_values='XNA', strategy='most_frequent'),\n",
       " 'columntransformer__pipeline-1__encoder': OrdinalEncoder(categories=[['Cash loans', 'Revolving loans'], ['N', 'Y'],\n",
       "                            ['N', 'Y'], ['No', 'Yes'], ['M', 'F'],\n",
       "                            ['MONDAY', 'TUESDAY', 'WEDNESDAY', 'THURSDAY',\n",
       "                             'FRIDAY', 'SATURDAY', 'SUNDAY']]),\n",
       " 'columntransformer__pipeline-1__nan_imputer__add_indicator': False,\n",
       " 'columntransformer__pipeline-1__nan_imputer__copy': True,\n",
       " 'columntransformer__pipeline-1__nan_imputer__fill_value': None,\n",
       " 'columntransformer__pipeline-1__nan_imputer__missing_values': nan,\n",
       " 'columntransformer__pipeline-1__nan_imputer__strategy': 'most_frequent',\n",
       " 'columntransformer__pipeline-1__nan_imputer__verbose': 0,\n",
       " 'columntransformer__pipeline-1__xna_imputer__add_indicator': False,\n",
       " 'columntransformer__pipeline-1__xna_imputer__copy': True,\n",
       " 'columntransformer__pipeline-1__xna_imputer__fill_value': None,\n",
       " 'columntransformer__pipeline-1__xna_imputer__missing_values': 'XNA',\n",
       " 'columntransformer__pipeline-1__xna_imputer__strategy': 'most_frequent',\n",
       " 'columntransformer__pipeline-1__xna_imputer__verbose': 0,\n",
       " 'columntransformer__pipeline-1__encoder__categories': [['Cash loans',\n",
       "   'Revolving loans'],\n",
       "  ['N', 'Y'],\n",
       "  ['N', 'Y'],\n",
       "  ['No', 'Yes'],\n",
       "  ['M', 'F'],\n",
       "  ['MONDAY',\n",
       "   'TUESDAY',\n",
       "   'WEDNESDAY',\n",
       "   'THURSDAY',\n",
       "   'FRIDAY',\n",
       "   'SATURDAY',\n",
       "   'SUNDAY']],\n",
       " 'columntransformer__pipeline-1__encoder__dtype': numpy.float64,\n",
       " 'columntransformer__pipeline-1__encoder__handle_unknown': 'error',\n",
       " 'columntransformer__pipeline-1__encoder__unknown_value': None,\n",
       " 'columntransformer__pipeline-2__memory': None,\n",
       " 'columntransformer__pipeline-2__steps': [('imputer',\n",
       "   SimpleImputer(strategy='most_frequent'))],\n",
       " 'columntransformer__pipeline-2__verbose': False,\n",
       " 'columntransformer__pipeline-2__imputer': SimpleImputer(strategy='most_frequent'),\n",
       " 'columntransformer__pipeline-2__imputer__add_indicator': False,\n",
       " 'columntransformer__pipeline-2__imputer__copy': True,\n",
       " 'columntransformer__pipeline-2__imputer__fill_value': None,\n",
       " 'columntransformer__pipeline-2__imputer__missing_values': nan,\n",
       " 'columntransformer__pipeline-2__imputer__strategy': 'most_frequent',\n",
       " 'columntransformer__pipeline-2__imputer__verbose': 0,\n",
       " 'columntransformer__pipeline-3__memory': None,\n",
       " 'columntransformer__pipeline-3__steps': [('imputer',\n",
       "   SimpleImputer(fill_value='Unknown', strategy='constant')),\n",
       "  ('value_formatter',\n",
       "   FunctionTransformer(func=<function <lambda> at 0x7f1e9f7aa790>)),\n",
       "  ('encoder', OneHotEncoder())],\n",
       " 'columntransformer__pipeline-3__verbose': False,\n",
       " 'columntransformer__pipeline-3__imputer': SimpleImputer(fill_value='Unknown', strategy='constant'),\n",
       " 'columntransformer__pipeline-3__value_formatter': FunctionTransformer(func=<function <lambda> at 0x7f1e9f7aa790>),\n",
       " 'columntransformer__pipeline-3__encoder': OneHotEncoder(),\n",
       " 'columntransformer__pipeline-3__imputer__add_indicator': False,\n",
       " 'columntransformer__pipeline-3__imputer__copy': True,\n",
       " 'columntransformer__pipeline-3__imputer__fill_value': 'Unknown',\n",
       " 'columntransformer__pipeline-3__imputer__missing_values': nan,\n",
       " 'columntransformer__pipeline-3__imputer__strategy': 'constant',\n",
       " 'columntransformer__pipeline-3__imputer__verbose': 0,\n",
       " 'columntransformer__pipeline-3__value_formatter__accept_sparse': False,\n",
       " 'columntransformer__pipeline-3__value_formatter__check_inverse': True,\n",
       " 'columntransformer__pipeline-3__value_formatter__func': <function preprocessing.<lambda>(x)>,\n",
       " 'columntransformer__pipeline-3__value_formatter__inv_kw_args': None,\n",
       " 'columntransformer__pipeline-3__value_formatter__inverse_func': None,\n",
       " 'columntransformer__pipeline-3__value_formatter__kw_args': None,\n",
       " 'columntransformer__pipeline-3__value_formatter__validate': False,\n",
       " 'columntransformer__pipeline-3__encoder__categories': 'auto',\n",
       " 'columntransformer__pipeline-3__encoder__drop': None,\n",
       " 'columntransformer__pipeline-3__encoder__dtype': numpy.float64,\n",
       " 'columntransformer__pipeline-3__encoder__handle_unknown': 'error',\n",
       " 'columntransformer__pipeline-3__encoder__sparse': True,\n",
       " 'randomforestclassifier__bootstrap': True,\n",
       " 'randomforestclassifier__ccp_alpha': 0.0,\n",
       " 'randomforestclassifier__class_weight': None,\n",
       " 'randomforestclassifier__criterion': 'gini',\n",
       " 'randomforestclassifier__max_depth': None,\n",
       " 'randomforestclassifier__max_features': 'auto',\n",
       " 'randomforestclassifier__max_leaf_nodes': None,\n",
       " 'randomforestclassifier__max_samples': None,\n",
       " 'randomforestclassifier__min_impurity_decrease': 0.0,\n",
       " 'randomforestclassifier__min_impurity_split': None,\n",
       " 'randomforestclassifier__min_samples_leaf': 1,\n",
       " 'randomforestclassifier__min_samples_split': 2,\n",
       " 'randomforestclassifier__min_weight_fraction_leaf': 0.0,\n",
       " 'randomforestclassifier__n_estimators': 100,\n",
       " 'randomforestclassifier__n_jobs': None,\n",
       " 'randomforestclassifier__oob_score': False,\n",
       " 'randomforestclassifier__random_state': None,\n",
       " 'randomforestclassifier__verbose': 0,\n",
       " 'randomforestclassifier__warm_start': False}"
      ]
     },
     "metadata": {},
     "execution_count": 6
    }
   ],
   "metadata": {}
  },
  {
   "cell_type": "markdown",
   "source": [
    "# Modèle 3 : LightGBM"
   ],
   "metadata": {}
  },
  {
   "cell_type": "code",
   "execution_count": 7,
   "source": [
    "model3 = make_pipeline(preprocessor, LGBMClassifier())\n",
    "model3.fit(X_train, y_train)\n",
    "print('Score:', model3.score(X_test, y_test))"
   ],
   "outputs": [
    {
     "output_type": "stream",
     "name": "stdout",
     "text": [
      "Score: 0.9192071931450498\n"
     ]
    }
   ],
   "metadata": {}
  },
  {
   "cell_type": "code",
   "execution_count": 8,
   "source": [
    "y_pred = model3.predict(X_test)\n",
    "conf_mat = confusion_matrix(y_test, y_pred)\n",
    "print(conf_mat)"
   ],
   "outputs": [
    {
     "output_type": "stream",
     "name": "stdout",
     "text": [
      "[[56447    81]\n",
      " [ 4888    87]]\n"
     ]
    }
   ],
   "metadata": {}
  },
  {
   "cell_type": "code",
   "execution_count": 9,
   "source": [
    "print(classification_report(y_test, y_pred))"
   ],
   "outputs": [
    {
     "output_type": "stream",
     "name": "stdout",
     "text": [
      "              precision    recall  f1-score   support\n",
      "\n",
      "           0       0.92      1.00      0.96     56528\n",
      "           1       0.52      0.02      0.03      4975\n",
      "\n",
      "    accuracy                           0.92     61503\n",
      "   macro avg       0.72      0.51      0.50     61503\n",
      "weighted avg       0.89      0.92      0.88     61503\n",
      "\n"
     ]
    }
   ],
   "metadata": {}
  },
  {
   "cell_type": "code",
   "execution_count": null,
   "source": [
    "# à faire\n",
    "\n",
    "# smote tomek\n",
    "# random search precision des deux classes (privilégier light_gbm)\n",
    "# \n",
    "# choisir optimisation recall(classe 1)\n",
    "# fonction coût : manque à gagner pour chaque treshold\n",
    "# treshold = + = + precision - recall\n",
    "# precision élevée = on accepte tout le monde\n",
    "# recall élevée = on refuse tout le monde\n",
    "# regarder crer une colonne intérêts (amt credit - good price),\n",
    "# optimiser mon threshold % de ça"
   ],
   "outputs": [],
   "metadata": {}
  }
 ],
 "metadata": {
  "interpreter": {
   "hash": "e28ba1b0f05b7395975e75d076f4168a18cd6381404260e3ea0bab694b3a7839"
  },
  "kernelspec": {
   "name": "python3",
   "display_name": "Python 3.8.11 64-bit ('base': conda)"
  },
  "language_info": {
   "codemirror_mode": {
    "name": "ipython",
    "version": 3
   },
   "file_extension": ".py",
   "mimetype": "text/x-python",
   "name": "python",
   "nbconvert_exporter": "python",
   "pygments_lexer": "ipython3",
   "version": "3.8.11"
  },
  "toc": {
   "base_numbering": 1,
   "nav_menu": {},
   "number_sections": true,
   "sideBar": true,
   "skip_h1_title": false,
   "title_cell": "Table of Contents",
   "title_sidebar": "Contents",
   "toc_cell": false,
   "toc_position": {},
   "toc_section_display": true,
   "toc_window_display": true
  },
  "varInspector": {
   "cols": {
    "lenName": 16,
    "lenType": 16,
    "lenVar": 40
   },
   "kernels_config": {
    "python": {
     "delete_cmd_postfix": "",
     "delete_cmd_prefix": "del ",
     "library": "var_list.py",
     "varRefreshCmd": "print(var_dic_list())"
    },
    "r": {
     "delete_cmd_postfix": ") ",
     "delete_cmd_prefix": "rm(",
     "library": "var_list.r",
     "varRefreshCmd": "cat(var_dic_list()) "
    }
   },
   "types_to_exclude": [
    "module",
    "function",
    "builtin_function_or_method",
    "instance",
    "_Feature"
   ],
   "window_display": false
  }
 },
 "nbformat": 4,
 "nbformat_minor": 2
}